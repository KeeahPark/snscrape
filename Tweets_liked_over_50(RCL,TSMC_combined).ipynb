{
  "nbformat": 4,
  "nbformat_minor": 0,
  "metadata": {
    "colab": {
      "name": "Tweets liked over 50(RCL,TSMC combined).ipynb",
      "provenance": [],
      "collapsed_sections": [],
      "authorship_tag": "ABX9TyOmVEPj68LfczQk6n5ykTEf",
      "include_colab_link": true
    },
    "kernelspec": {
      "name": "python3",
      "display_name": "Python 3"
    },
    "language_info": {
      "name": "python"
    }
  },
  "cells": [
    {
      "cell_type": "markdown",
      "metadata": {
        "id": "view-in-github",
        "colab_type": "text"
      },
      "source": [
        "<a href=\"https://colab.research.google.com/github/KeeahPark/snscrape/blob/master/Tweets_liked_over_50(RCL%2CTSMC_combined).ipynb\" target=\"_parent\"><img src=\"https://colab.research.google.com/assets/colab-badge.svg\" alt=\"Open In Colab\"/></a>"
      ]
    },
    {
      "cell_type": "code",
      "metadata": {
        "colab": {
          "base_uri": "https://localhost:8080/"
        },
        "id": "-LhbHO90W5_S",
        "outputId": "964090d8-df87-43d3-b0d1-d6a95907bb05"
      },
      "source": [
        "from google.colab import drive\n",
        "drive.mount('/content/drive')"
      ],
      "execution_count": 1,
      "outputs": [
        {
          "output_type": "stream",
          "name": "stdout",
          "text": [
            "Mounted at /content/drive\n"
          ]
        }
      ]
    },
    {
      "cell_type": "code",
      "metadata": {
        "id": "dCWk54A4QkDf"
      },
      "source": [
        "import pandas as pd\n"
      ],
      "execution_count": 2,
      "outputs": []
    },
    {
      "cell_type": "code",
      "metadata": {
        "id": "Bgq82AAlXdIe"
      },
      "source": [
        "rcl=pd.read_csv('/content/drive/MyDrive/Colab Notebooks/RCL.csv')\n",
        "tsmc=pd.read_csv('/content/drive/MyDrive/Colab Notebooks/TSMC.csv')\n",
        "rcl=rcl.sort_values(by=['Likes'],ascending=False)\n",
        "tsmc=tsmc.sort_values(by=['Likes'],ascending=False)"
      ],
      "execution_count": 5,
      "outputs": []
    },
    {
      "cell_type": "code",
      "metadata": {
        "id": "Jdk-BIijYDjU"
      },
      "source": [
        "tsmc_50likes=tsmc[tsmc['Likes']>=50]\n",
        "rcl_50likes=rcl[rcl['Likes']>=50]"
      ],
      "execution_count": 9,
      "outputs": []
    },
    {
      "cell_type": "code",
      "metadata": {
        "colab": {
          "base_uri": "https://localhost:8080/"
        },
        "id": "yK-k_M6lZzfP",
        "outputId": "92181868-bcff-4c33-c24d-21d329783c5f"
      },
      "source": [
        "print(len(tsmc_50likes))\n",
        "print(len(rcl_50likes))"
      ],
      "execution_count": 15,
      "outputs": [
        {
          "output_type": "stream",
          "name": "stdout",
          "text": [
            "1078\n",
            "308\n"
          ]
        }
      ]
    },
    {
      "cell_type": "code",
      "metadata": {
        "id": "8hyBvLyWZkzF"
      },
      "source": [
        "df=pd.concat([tsmc_50likes,rcl_50likes],axis=0)"
      ],
      "execution_count": 13,
      "outputs": []
    },
    {
      "cell_type": "code",
      "metadata": {
        "colab": {
          "base_uri": "https://localhost:8080/",
          "height": 666
        },
        "id": "HXReFEyAZs1m",
        "outputId": "f61f9601-5f36-4c7e-c387-eb5821a72376"
      },
      "source": [
        "df"
      ],
      "execution_count": 14,
      "outputs": [
        {
          "output_type": "execute_result",
          "data": {
            "text/html": [
              "<div>\n",
              "<style scoped>\n",
              "    .dataframe tbody tr th:only-of-type {\n",
              "        vertical-align: middle;\n",
              "    }\n",
              "\n",
              "    .dataframe tbody tr th {\n",
              "        vertical-align: top;\n",
              "    }\n",
              "\n",
              "    .dataframe thead th {\n",
              "        text-align: right;\n",
              "    }\n",
              "</style>\n",
              "<table border=\"1\" class=\"dataframe\">\n",
              "  <thead>\n",
              "    <tr style=\"text-align: right;\">\n",
              "      <th></th>\n",
              "      <th>Datetime</th>\n",
              "      <th>Tweet id</th>\n",
              "      <th>Text</th>\n",
              "      <th>Username</th>\n",
              "      <th>Likes</th>\n",
              "    </tr>\n",
              "  </thead>\n",
              "  <tbody>\n",
              "    <tr>\n",
              "      <th>18796</th>\n",
              "      <td>2021-10-22 00:33:26+00:00</td>\n",
              "      <td>1451345917416665090</td>\n",
              "      <td>The 10 Biggest Companies by Market Cap in 2001...</td>\n",
              "      <td>TomGardnerFool</td>\n",
              "      <td>32713</td>\n",
              "    </tr>\n",
              "    <tr>\n",
              "      <th>31012</th>\n",
              "      <td>2021-10-14 06:31:25+00:00</td>\n",
              "      <td>1448536903850999810</td>\n",
              "      <td>【NHKニュース速報 15:31】\\n台湾ＴＳＭＣ　日本に半導体工場を建設\\n不足する半導体...</td>\n",
              "      <td>UN_NERV</td>\n",
              "      <td>7813</td>\n",
              "    </tr>\n",
              "    <tr>\n",
              "      <th>30992</th>\n",
              "      <td>2021-10-14 06:32:59+00:00</td>\n",
              "      <td>1448537301861036032</td>\n",
              "      <td>【速報】台湾TSMC 日本に半導体工場を建設\\n不足する半導体の国内製造能力向上へ(NHKニ...</td>\n",
              "      <td>livedoornews</td>\n",
              "      <td>5329</td>\n",
              "    </tr>\n",
              "    <tr>\n",
              "      <th>12889</th>\n",
              "      <td>2021-11-02 08:28:05+00:00</td>\n",
              "      <td>1455451637133107200</td>\n",
              "      <td>Today I named TSMC Founder Morris Chang as my ...</td>\n",
              "      <td>iingwen</td>\n",
              "      <td>5154</td>\n",
              "    </tr>\n",
              "    <tr>\n",
              "      <th>24948</th>\n",
              "      <td>2021-10-15 15:48:11+00:00</td>\n",
              "      <td>1449039406724050946</td>\n",
              "      <td>⬜️台湾TSMCが日本に新工場を建設することに対し、韓国がWTOに提訴する可能性\\nTSMC...</td>\n",
              "      <td>FIFI_Egypt</td>\n",
              "      <td>4428</td>\n",
              "    </tr>\n",
              "    <tr>\n",
              "      <th>...</th>\n",
              "      <td>...</td>\n",
              "      <td>...</td>\n",
              "      <td>...</td>\n",
              "      <td>...</td>\n",
              "      <td>...</td>\n",
              "    </tr>\n",
              "    <tr>\n",
              "      <th>12237</th>\n",
              "      <td>2021-10-31 20:44:52+00:00</td>\n",
              "      <td>1454912276880887810</td>\n",
              "      <td>@Thibaut1906_RCL Je suis obligé là. https://t....</td>\n",
              "      <td>juleessssss</td>\n",
              "      <td>50</td>\n",
              "    </tr>\n",
              "    <tr>\n",
              "      <th>18654</th>\n",
              "      <td>2021-10-09 14:32:51+00:00</td>\n",
              "      <td>1446846121406464011</td>\n",
              "      <td>La corrupcion de paseo por la moneda... Udi y ...</td>\n",
              "      <td>Cristian_Rcl</td>\n",
              "      <td>50</td>\n",
              "    </tr>\n",
              "    <tr>\n",
              "      <th>8174</th>\n",
              "      <td>2021-11-11 18:37:55+00:00</td>\n",
              "      <td>1458866594600275973</td>\n",
              "      <td>いいいちじろの日❤️💙 https://t.co/Gwa5RXAX6y</td>\n",
              "      <td>rcl_12hp</td>\n",
              "      <td>50</td>\n",
              "    </tr>\n",
              "    <tr>\n",
              "      <th>2605</th>\n",
              "      <td>2021-11-21 00:40:57+00:00</td>\n",
              "      <td>1462219446496333825</td>\n",
              "      <td>こむぎちゃんの缶バッジ買って来ました☺️\\n#太陽堂のむぎせんべい \\n#陽向こむぎ htt...</td>\n",
              "      <td>8uBEBzSJsRCLTe6</td>\n",
              "      <td>50</td>\n",
              "    </tr>\n",
              "    <tr>\n",
              "      <th>31033</th>\n",
              "      <td>2021-09-05 06:46:20+00:00</td>\n",
              "      <td>1434407534958317568</td>\n",
              "      <td>Imagine portfolio return of someone who didn’t...</td>\n",
              "      <td>NigelMachado</td>\n",
              "      <td>50</td>\n",
              "    </tr>\n",
              "  </tbody>\n",
              "</table>\n",
              "<p>1386 rows × 5 columns</p>\n",
              "</div>"
            ],
            "text/plain": [
              "                        Datetime             Tweet id  ...         Username  Likes\n",
              "18796  2021-10-22 00:33:26+00:00  1451345917416665090  ...   TomGardnerFool  32713\n",
              "31012  2021-10-14 06:31:25+00:00  1448536903850999810  ...          UN_NERV   7813\n",
              "30992  2021-10-14 06:32:59+00:00  1448537301861036032  ...     livedoornews   5329\n",
              "12889  2021-11-02 08:28:05+00:00  1455451637133107200  ...          iingwen   5154\n",
              "24948  2021-10-15 15:48:11+00:00  1449039406724050946  ...       FIFI_Egypt   4428\n",
              "...                          ...                  ...  ...              ...    ...\n",
              "12237  2021-10-31 20:44:52+00:00  1454912276880887810  ...      juleessssss     50\n",
              "18654  2021-10-09 14:32:51+00:00  1446846121406464011  ...     Cristian_Rcl     50\n",
              "8174   2021-11-11 18:37:55+00:00  1458866594600275973  ...         rcl_12hp     50\n",
              "2605   2021-11-21 00:40:57+00:00  1462219446496333825  ...  8uBEBzSJsRCLTe6     50\n",
              "31033  2021-09-05 06:46:20+00:00  1434407534958317568  ...     NigelMachado     50\n",
              "\n",
              "[1386 rows x 5 columns]"
            ]
          },
          "metadata": {},
          "execution_count": 14
        }
      ]
    },
    {
      "cell_type": "code",
      "metadata": {
        "colab": {
          "base_uri": "https://localhost:8080/",
          "height": 649
        },
        "id": "skOCH7oyZ6oO",
        "outputId": "20f34f81-6f09-414b-c8ce-c22bbdd951ea"
      },
      "source": [
        "df.drop_duplicates('Username')"
      ],
      "execution_count": 17,
      "outputs": [
        {
          "output_type": "execute_result",
          "data": {
            "text/html": [
              "<div>\n",
              "<style scoped>\n",
              "    .dataframe tbody tr th:only-of-type {\n",
              "        vertical-align: middle;\n",
              "    }\n",
              "\n",
              "    .dataframe tbody tr th {\n",
              "        vertical-align: top;\n",
              "    }\n",
              "\n",
              "    .dataframe thead th {\n",
              "        text-align: right;\n",
              "    }\n",
              "</style>\n",
              "<table border=\"1\" class=\"dataframe\">\n",
              "  <thead>\n",
              "    <tr style=\"text-align: right;\">\n",
              "      <th></th>\n",
              "      <th>Datetime</th>\n",
              "      <th>Tweet id</th>\n",
              "      <th>Text</th>\n",
              "      <th>Username</th>\n",
              "      <th>Likes</th>\n",
              "    </tr>\n",
              "  </thead>\n",
              "  <tbody>\n",
              "    <tr>\n",
              "      <th>18796</th>\n",
              "      <td>2021-10-22 00:33:26+00:00</td>\n",
              "      <td>1451345917416665090</td>\n",
              "      <td>The 10 Biggest Companies by Market Cap in 2001...</td>\n",
              "      <td>TomGardnerFool</td>\n",
              "      <td>32713</td>\n",
              "    </tr>\n",
              "    <tr>\n",
              "      <th>31012</th>\n",
              "      <td>2021-10-14 06:31:25+00:00</td>\n",
              "      <td>1448536903850999810</td>\n",
              "      <td>【NHKニュース速報 15:31】\\n台湾ＴＳＭＣ　日本に半導体工場を建設\\n不足する半導体...</td>\n",
              "      <td>UN_NERV</td>\n",
              "      <td>7813</td>\n",
              "    </tr>\n",
              "    <tr>\n",
              "      <th>30992</th>\n",
              "      <td>2021-10-14 06:32:59+00:00</td>\n",
              "      <td>1448537301861036032</td>\n",
              "      <td>【速報】台湾TSMC 日本に半導体工場を建設\\n不足する半導体の国内製造能力向上へ(NHKニ...</td>\n",
              "      <td>livedoornews</td>\n",
              "      <td>5329</td>\n",
              "    </tr>\n",
              "    <tr>\n",
              "      <th>12889</th>\n",
              "      <td>2021-11-02 08:28:05+00:00</td>\n",
              "      <td>1455451637133107200</td>\n",
              "      <td>Today I named TSMC Founder Morris Chang as my ...</td>\n",
              "      <td>iingwen</td>\n",
              "      <td>5154</td>\n",
              "    </tr>\n",
              "    <tr>\n",
              "      <th>24948</th>\n",
              "      <td>2021-10-15 15:48:11+00:00</td>\n",
              "      <td>1449039406724050946</td>\n",
              "      <td>⬜️台湾TSMCが日本に新工場を建設することに対し、韓国がWTOに提訴する可能性\\nTSMC...</td>\n",
              "      <td>FIFI_Egypt</td>\n",
              "      <td>4428</td>\n",
              "    </tr>\n",
              "    <tr>\n",
              "      <th>...</th>\n",
              "      <td>...</td>\n",
              "      <td>...</td>\n",
              "      <td>...</td>\n",
              "      <td>...</td>\n",
              "      <td>...</td>\n",
              "    </tr>\n",
              "    <tr>\n",
              "      <th>28510</th>\n",
              "      <td>2021-09-13 19:42:13+00:00</td>\n",
              "      <td>1437501892024750083</td>\n",
              "      <td>$JPM says Delta variant has peaked, Buy travel...</td>\n",
              "      <td>TradingThomas3</td>\n",
              "      <td>50</td>\n",
              "    </tr>\n",
              "    <tr>\n",
              "      <th>25624</th>\n",
              "      <td>2021-09-21 11:57:58+00:00</td>\n",
              "      <td>1440284165597904898</td>\n",
              "      <td>Parisi si lees esto, por la chucha weon como n...</td>\n",
              "      <td>P4ttyta</td>\n",
              "      <td>50</td>\n",
              "    </tr>\n",
              "    <tr>\n",
              "      <th>48514</th>\n",
              "      <td>2021-07-31 13:18:33+00:00</td>\n",
              "      <td>1421460275765694467</td>\n",
              "      <td>#RESULTADOS\\n\\nLunes 2\\n🌞Ferrari\\n🌜NXP Semi, T...</td>\n",
              "      <td>gualestrit</td>\n",
              "      <td>50</td>\n",
              "    </tr>\n",
              "    <tr>\n",
              "      <th>12237</th>\n",
              "      <td>2021-10-31 20:44:52+00:00</td>\n",
              "      <td>1454912276880887810</td>\n",
              "      <td>@Thibaut1906_RCL Je suis obligé là. https://t....</td>\n",
              "      <td>juleessssss</td>\n",
              "      <td>50</td>\n",
              "    </tr>\n",
              "    <tr>\n",
              "      <th>31033</th>\n",
              "      <td>2021-09-05 06:46:20+00:00</td>\n",
              "      <td>1434407534958317568</td>\n",
              "      <td>Imagine portfolio return of someone who didn’t...</td>\n",
              "      <td>NigelMachado</td>\n",
              "      <td>50</td>\n",
              "    </tr>\n",
              "  </tbody>\n",
              "</table>\n",
              "<p>632 rows × 5 columns</p>\n",
              "</div>"
            ],
            "text/plain": [
              "                        Datetime             Tweet id  ...        Username  Likes\n",
              "18796  2021-10-22 00:33:26+00:00  1451345917416665090  ...  TomGardnerFool  32713\n",
              "31012  2021-10-14 06:31:25+00:00  1448536903850999810  ...         UN_NERV   7813\n",
              "30992  2021-10-14 06:32:59+00:00  1448537301861036032  ...    livedoornews   5329\n",
              "12889  2021-11-02 08:28:05+00:00  1455451637133107200  ...         iingwen   5154\n",
              "24948  2021-10-15 15:48:11+00:00  1449039406724050946  ...      FIFI_Egypt   4428\n",
              "...                          ...                  ...  ...             ...    ...\n",
              "28510  2021-09-13 19:42:13+00:00  1437501892024750083  ...  TradingThomas3     50\n",
              "25624  2021-09-21 11:57:58+00:00  1440284165597904898  ...         P4ttyta     50\n",
              "48514  2021-07-31 13:18:33+00:00  1421460275765694467  ...      gualestrit     50\n",
              "12237  2021-10-31 20:44:52+00:00  1454912276880887810  ...     juleessssss     50\n",
              "31033  2021-09-05 06:46:20+00:00  1434407534958317568  ...    NigelMachado     50\n",
              "\n",
              "[632 rows x 5 columns]"
            ]
          },
          "metadata": {},
          "execution_count": 17
        }
      ]
    },
    {
      "cell_type": "code",
      "metadata": {
        "id": "DglUot8HaKFE"
      },
      "source": [
        "!pip -q install spacy-langdetect #customizable languge detection pipeline for spaCy\n",
        "import spacy\n",
        "from spacy_langdetect import LanguageDetector\n",
        "nlp=spacy.load('en')\n",
        "nlp.add_pipe(LanguageDetector(),name='language_detector',last=True)\n",
        "#영어 알파벳을 쓰는 언어도 있고, 기업명이 영문으로 들어있어서 RegEx를 쓰기 어려울 것 같았음. 그래서 language detector로 그냥 text의 언어를 유추하고, eng라고 판별된 것만 사용하고자 함\n",
        " "
      ],
      "execution_count": 35,
      "outputs": []
    },
    {
      "cell_type": "code",
      "metadata": {
        "colab": {
          "base_uri": "https://localhost:8080/"
        },
        "id": "zB0ElCyVflxZ",
        "outputId": "1782a084-5338-4406-f6b4-1c4d38541502"
      },
      "source": [
        "language=[]\n",
        "for text in df['Text']:\n",
        "  doc=nlp(text)\n",
        "  language.append(doc._.language)\n",
        "print(language)"
      ],
      "execution_count": 36,
      "outputs": [
        {
          "output_type": "stream",
          "name": "stdout",
          "text": [
            "[{'language': 'en', 'score': 0.9999986858442337}, {'language': 'ja', 'score': 0.9999993876129343}, {'language': 'ja', 'score': 0.9999990298399561}, {'language': 'en', 'score': 0.9999962618795646}, {'language': 'ja', 'score': 0.999999702378891}, {'language': 'en', 'score': 0.9999969851597872}, {'language': 'en', 'score': 0.999998052728634}, {'language': 'ja', 'score': 0.9999999911688265}, {'language': 'ja', 'score': 0.9999991741055898}, {'language': 'ja', 'score': 0.857142316678266}, {'language': 'ja', 'score': 0.9999997754853128}, {'language': 'ja', 'score': 0.9999985183066182}, {'language': 'ja', 'score': 0.9999972737300638}, {'language': 'ja', 'score': 0.9999999998144292}, {'language': 'ja', 'score': 0.9999998116265534}, {'language': 'en', 'score': 0.9999970454549458}, {'language': 'en', 'score': 0.9999963176301785}, {'language': 'ja', 'score': 0.9999984513395134}, {'language': 'vi', 'score': 0.5714277721265651}, {'language': 'ja', 'score': 0.9999997743971472}, {'language': 'en', 'score': 0.9999965447618283}, {'language': 'en', 'score': 0.9999953097609093}, {'language': 'ja', 'score': 0.9999999961917412}, {'language': 'ja', 'score': 0.9999999993327353}, {'language': 'ja', 'score': 0.714285652109623}, {'language': 'en', 'score': 0.8571391935512859}, {'language': 'ja', 'score': 0.9999998926563538}, {'language': 'en', 'score': 0.9999952055654471}, {'language': 'ja', 'score': 0.9999997547361221}, {'language': 'ja', 'score': 0.9999983170772964}, {'language': 'en', 'score': 0.9999959004852903}, {'language': 'ja', 'score': 0.999999978114929}, {'language': 'ja', 'score': 0.9999994440437998}, {'language': 'ja', 'score': 0.999999997936512}, {'language': 'en', 'score': 0.9999977268898925}, {'language': 'ja', 'score': 0.9999999512595448}, {'language': 'ja', 'score': 0.5714273567925308}, {'language': 'ja', 'score': 0.9999989129838888}, {'language': 'ja', 'score': 0.9999986899306129}, {'language': 'en', 'score': 0.9999968398046608}, {'language': 'en', 'score': 0.7142845015376084}, {'language': 'en', 'score': 0.9999964461869532}, {'language': 'ja', 'score': 0.9999994809012761}, {'language': 'ja', 'score': 0.9999995234625918}, {'language': 'ja', 'score': 0.9999981335099019}, {'language': 'ja', 'score': 0.999999397026181}, {'language': 'ja', 'score': 0.8571398170185416}, {'language': 'ja', 'score': 0.999999998783679}, {'language': 'en', 'score': 0.9999968202059432}, {'language': 'ja', 'score': 0.9999984761869309}, {'language': 'ja', 'score': 0.9999979719989278}, {'language': 'ja', 'score': 0.9999999727376998}, {'language': 'ja', 'score': 0.9999999343570782}, {'language': 'ja', 'score': 0.9999992350403433}, {'language': 'ja', 'score': 0.9999988501964292}, {'language': 'ja', 'score': 0.8571402684909958}, {'language': 'en', 'score': 0.9999985742013608}, {'language': 'ja', 'score': 0.9999994809633006}, {'language': 'ja', 'score': 0.999997484151089}, {'language': 'ja', 'score': 0.9999993459089761}, {'language': 'ja', 'score': 0.9999988854912722}, {'language': 'ja', 'score': 0.9999987099771612}, {'language': 'ja', 'score': 0.9999999546386663}, {'language': 'ja', 'score': 0.9999999839981747}, {'language': 'en', 'score': 0.9999949058813635}, {'language': 'ja', 'score': 0.9999988103729822}, {'language': 'en', 'score': 0.9999972276314859}, {'language': 'en', 'score': 0.9999960930889807}, {'language': 'ja', 'score': 0.9999996361734564}, {'language': 'ja', 'score': 0.9999998078884252}, {'language': 'en', 'score': 0.9999946093218826}, {'language': 'ja', 'score': 0.9999991803714954}, {'language': 'ja', 'score': 0.9999996643845221}, {'language': 'ja', 'score': 0.9999997198397628}, {'language': 'ja', 'score': 0.9999974131590534}, {'language': 'ja', 'score': 0.9999994425153824}, {'language': 'ja', 'score': 0.9999988628538301}, {'language': 'ja', 'score': 0.9999999214382655}, {'language': 'en', 'score': 0.9999975651862243}, {'language': 'en', 'score': 0.9999957781453752}, {'language': 'ja', 'score': 0.9999984145079275}, {'language': 'th', 'score': 0.9999999945107799}, {'language': 'ja', 'score': 0.9999999107277979}, {'language': 'ja', 'score': 0.9999995090470581}, {'language': 'ja', 'score': 0.9999996533652923}, {'language': 'ja', 'score': 0.9999991232256706}, {'language': 'en', 'score': 0.9999957794592655}, {'language': 'ja', 'score': 0.9999999792732777}, {'language': 'ja', 'score': 0.9999999950746757}, {'language': 'ja', 'score': 0.9999999389510541}, {'language': 'ja', 'score': 0.9999999893909479}, {'language': 'ja', 'score': 0.9999999318719353}, {'language': 'en', 'score': 0.9999965463972511}, {'language': 'ja', 'score': 0.9999985813347615}, {'language': 'ja', 'score': 0.9999986506572519}, {'language': 'ja', 'score': 0.9999998826023895}, {'language': 'ko', 'score': 0.8571430229340885}, {'language': 'ja', 'score': 0.9999999262815915}, {'language': 'ja', 'score': 0.9999995123751353}, {'language': 'ja', 'score': 0.9999999945795812}, {'language': 'en', 'score': 0.9999976643223145}, {'language': 'ja', 'score': 0.9999995577850902}, {'language': 'ja', 'score': 0.9999993379808761}, {'language': 'ja', 'score': 0.9999997131343956}, {'language': 'ja', 'score': 0.9999991004184399}, {'language': 'ja', 'score': 0.9999996088937464}, {'language': 'en', 'score': 0.9999958647783704}, {'language': 'ja', 'score': 0.9999999968258554}, {'language': 'ja', 'score': 0.9999983975461951}, {'language': 'ja', 'score': 0.8571410621558302}, {'language': 'en', 'score': 0.999997309260952}, {'language': 'ja', 'score': 0.9999995307601702}, {'language': 'ja', 'score': 0.9999999653308567}, {'language': 'ja', 'score': 0.9999994952555709}, {'language': 'ja', 'score': 0.9999979052365378}, {'language': 'ja', 'score': 0.9999997546155539}, {'language': 'ja', 'score': 0.9999999402402067}, {'language': 'ja', 'score': 0.9999996771341303}, {'language': 'ja', 'score': 0.9999980782357456}, {'language': 'en', 'score': 0.9999963000019255}, {'language': 'ja', 'score': 0.9999996773527048}, {'language': 'ja', 'score': 0.7142851355820217}, {'language': 'ar', 'score': 0.99999832631142}, {'language': 'ja', 'score': 0.9999983064622642}, {'language': 'ja', 'score': 0.9999999997995229}, {'language': 'en', 'score': 0.9999986806424557}, {'language': 'ja', 'score': 0.9999999697134334}, {'language': 'ja', 'score': 0.9999999553441966}, {'language': 'ja', 'score': 0.99999997984719}, {'language': 'ja', 'score': 0.9999999980558186}, {'language': 'UNKNOWN', 'score': 0.0}, {'language': 'en', 'score': 0.9999978864846959}, {'language': 'ja', 'score': 0.9999996847212274}, {'language': 'en', 'score': 0.999996160652368}, {'language': 'ja', 'score': 0.9999999987116672}, {'language': 'ja', 'score': 0.9999989210983258}, {'language': 'ja', 'score': 0.9999984583901601}, {'language': 'ja', 'score': 0.999999995404049}, {'language': 'ja', 'score': 0.8571422080059501}, {'language': 'ja', 'score': 0.9999994620983517}, {'language': 'ja', 'score': 0.9999991472595333}, {'language': 'tr', 'score': 0.857141494379875}, {'language': 'ja', 'score': 0.9999994618880175}, {'language': 'ja', 'score': 0.9999999909509578}, {'language': 'en', 'score': 0.999994517964492}, {'language': 'en', 'score': 0.9999955793653703}, {'language': 'ja', 'score': 0.9999999468518777}, {'language': 'ja', 'score': 0.9999996024424258}, {'language': 'ja', 'score': 0.999999970525518}, {'language': 'ja', 'score': 0.9999999944344806}, {'language': 'ja', 'score': 0.9999986270243022}, {'language': 'ja', 'score': 0.9999992621113712}, {'language': 'en', 'score': 0.9999973638935307}, {'language': 'en', 'score': 0.999994357840166}, {'language': 'ja', 'score': 0.9999999844991838}, {'language': 'en', 'score': 0.9999973518676069}, {'language': 'ja', 'score': 0.9999999991308807}, {'language': 'ja', 'score': 0.9999999781163118}, {'language': 'ja', 'score': 0.9999976346211126}, {'language': 'ar', 'score': 0.9999991152303981}, {'language': 'ja', 'score': 0.857142334902119}, {'language': 'ja', 'score': 0.714283616383943}, {'language': 'ja', 'score': 0.9999988758371887}, {'language': 'ja', 'score': 0.9999986988557751}, {'language': 'en', 'score': 0.9999961376821302}, {'language': 'ja', 'score': 0.9999984686606735}, {'language': 'ja', 'score': 0.9999997981234239}, {'language': 'ja', 'score': 0.9999993532757416}, {'language': 'ja', 'score': 0.9999998797521135}, {'language': 'ko', 'score': 0.5714282331534513}, {'language': 'ja', 'score': 0.7142853009327983}, {'language': 'ja', 'score': 0.9999985759278267}, {'language': 'ja', 'score': 0.9999980695181664}, {'language': 'ja', 'score': 0.9999997953988781}, {'language': 'ko', 'score': 0.9999968354901594}, {'language': 'ja', 'score': 0.9999999939202135}, {'language': 'ja', 'score': 0.9999999161940404}, {'language': 'ja', 'score': 0.999999965967241}, {'language': 'ja', 'score': 0.9999997085906922}, {'language': 'fr', 'score': 0.9999958298649254}, {'language': 'ja', 'score': 0.9999996965841867}, {'language': 'ja', 'score': 0.9999998775042194}, {'language': 'ja', 'score': 0.9999997164474389}, {'language': 'ja', 'score': 0.9999999974254639}, {'language': 'ja', 'score': 0.9999998366698196}, {'language': 'ja', 'score': 0.9999985349581041}, {'language': 'ja', 'score': 0.99999992500448}, {'language': 'en', 'score': 0.9999955732700232}, {'language': 'lt', 'score': 0.8571383594916906}, {'language': 'ko', 'score': 0.8571415097518337}, {'language': 'ja', 'score': 0.7142862942309416}, {'language': 'en', 'score': 0.9999943408323506}, {'language': 'ja', 'score': 0.9999986507805474}, {'language': 'en', 'score': 0.9999986869081131}, {'language': 'ja', 'score': 0.9999998495346121}, {'language': 'ja', 'score': 0.9999999551301725}, {'language': 'en', 'score': 0.9999951644797795}, {'language': 'ja', 'score': 0.9999999947876029}, {'language': 'ja', 'score': 0.8571427023418321}, {'language': 'en', 'score': 0.999996748174147}, {'language': 'ja', 'score': 0.9999999962918315}, {'language': 'en', 'score': 0.999996570136304}, {'language': 'tr', 'score': 0.9999976864374334}, {'language': 'en', 'score': 0.7142835136839895}, {'language': 'en', 'score': 0.9999967161212723}, {'language': 'ja', 'score': 0.9999999833335783}, {'language': 'ja', 'score': 0.9999999283548076}, {'language': 'en', 'score': 0.9999949180064973}, {'language': 'ja', 'score': 0.9999999616800954}, {'language': 'ja', 'score': 0.9999990609755964}, {'language': 'ja', 'score': 0.9999993222894177}, {'language': 'ja', 'score': 0.9999999970936546}, {'language': 'en', 'score': 0.9999970454517394}, {'language': 'ja', 'score': 0.999999212724632}, {'language': 'en', 'score': 0.9999971891540839}, {'language': 'ja', 'score': 0.9999992445078478}, {'language': 'en', 'score': 0.9999959629563517}, {'language': 'ja', 'score': 0.9999990364778468}, {'language': 'ja', 'score': 0.9999997548217643}, {'language': 'ja', 'score': 0.9999985567768062}, {'language': 'ja', 'score': 0.9999995928366742}, {'language': 'en', 'score': 0.9999965838071365}, {'language': 'ja', 'score': 0.9999996186312744}, {'language': 'ja', 'score': 0.9999994005484409}, {'language': 'ja', 'score': 0.999999034551343}, {'language': 'tr', 'score': 0.9999985804762531}, {'language': 'ja', 'score': 0.9999994824128244}, {'language': 'fa', 'score': 0.9999983348602437}, {'language': 'ja', 'score': 0.9999993845841018}, {'language': 'ja', 'score': 0.9999991154990048}, {'language': 'ja', 'score': 0.9999989809641032}, {'language': 'ja', 'score': 0.9999995408813243}, {'language': 'ko', 'score': 0.7142849556315246}, {'language': 'en', 'score': 0.9999980266035253}, {'language': 'en', 'score': 0.9999969139703015}, {'language': 'en', 'score': 0.9999966429655964}, {'language': 'en', 'score': 0.9999977252591645}, {'language': 'ja', 'score': 0.9999999999856193}, {'language': 'en', 'score': 0.9999967995503695}, {'language': 'ja', 'score': 0.9999990769508058}, {'language': 'ja', 'score': 0.9999999689353836}, {'language': 'en', 'score': 0.9999985223363494}, {'language': 'ja', 'score': 0.9999992364868489}, {'language': 'ja', 'score': 0.9999999976411671}, {'language': 'en', 'score': 0.9999953879208839}, {'language': 'no', 'score': 0.5714253317192323}, {'language': 'en', 'score': 0.9999972095816884}, {'language': 'es', 'score': 0.9999975585336648}, {'language': 'en', 'score': 0.9999974237090041}, {'language': 'en', 'score': 0.9999950757929729}, {'language': 'ja', 'score': 0.9999999798501182}, {'language': 'zh-cn', 'score': 0.9999979468195144}, {'language': 'ja', 'score': 0.999999971611645}, {'language': 'en', 'score': 0.9999968602498234}, {'language': 'en', 'score': 0.9999963277811371}, {'language': 'zh-cn', 'score': 0.9999986887358189}, {'language': 'ja', 'score': 0.9999998072949866}, {'language': 'ja', 'score': 0.9999993868558535}, {'language': 'ja', 'score': 0.9999997121497485}, {'language': 'en', 'score': 0.9999958377456684}, {'language': 'ja', 'score': 0.9999999802203557}, {'language': 'ja', 'score': 0.9999987762603079}, {'language': 'en', 'score': 0.9999955159677834}, {'language': 'ja', 'score': 0.9999987546450243}, {'language': 'ja', 'score': 0.9999998184286316}, {'language': 'zh-tw', 'score': 0.9999987549910917}, {'language': 'ja', 'score': 0.9999993326393553}, {'language': 'ja', 'score': 0.9999988642985114}, {'language': 'ja', 'score': 0.9999983408865514}, {'language': 'en', 'score': 0.9999954364190751}, {'language': 'en', 'score': 0.9999966064090178}, {'language': 'ja', 'score': 0.9999998728200079}, {'language': 'ja', 'score': 0.9999999622330338}, {'language': 'ja', 'score': 0.9999997188675543}, {'language': 'ja', 'score': 0.9999999232190397}, {'language': 'ja', 'score': 0.9999997493132688}, {'language': 'ja', 'score': 0.9999983374342831}, {'language': 'ja', 'score': 0.9999990703201818}, {'language': 'ja', 'score': 0.9999999855610952}, {'language': 'pt', 'score': 0.999995032561787}, {'language': 'ja', 'score': 0.9999994975038367}, {'language': 'ja', 'score': 0.9999999999622056}, {'language': 'ja', 'score': 0.9999991801541428}, {'language': 'ja', 'score': 0.9999999586713444}, {'language': 'ja', 'score': 0.9999999904728566}, {'language': 'en', 'score': 0.9999951895672915}, {'language': 'ja', 'score': 0.9999999869832225}, {'language': 'en', 'score': 0.9999977054482782}, {'language': 'ja', 'score': 0.9999999678369329}, {'language': 'ja', 'score': 0.9999988632896667}, {'language': 'ja', 'score': 0.9999999949097459}, {'language': 'ja', 'score': 0.9999999998180032}, {'language': 'ja', 'score': 0.8571407419794378}, {'language': 'ja', 'score': 0.9999999004741092}, {'language': 'ja', 'score': 0.9999996155117418}, {'language': 'ja', 'score': 0.9999995787657852}, {'language': 'ja', 'score': 0.9999985254865619}, {'language': 'ja', 'score': 0.9999999855792034}, {'language': 'ko', 'score': 0.9999999646174762}, {'language': 'ja', 'score': 0.8571413491318203}, {'language': 'en', 'score': 0.9999963541745288}, {'language': 'ja', 'score': 0.9999999998937245}, {'language': 'en', 'score': 0.999997166161313}, {'language': 'ja', 'score': 0.9999997094568116}, {'language': 'ja', 'score': 0.7142858760271192}, {'language': 'ja', 'score': 0.999999814687287}, {'language': 'ja', 'score': 0.9999995939265367}, {'language': 'ja', 'score': 0.9999986241811287}, {'language': 'ja', 'score': 0.9999999576509416}, {'language': 'ja', 'score': 0.9999994626481945}, {'language': 'en', 'score': 0.9999955051241074}, {'language': 'en', 'score': 0.9999954594617728}, {'language': 'en', 'score': 0.9999979313205986}, {'language': 'ja', 'score': 0.9999993794212381}, {'language': 'ja', 'score': 0.999999987892332}, {'language': 'ja', 'score': 0.9999996989802399}, {'language': 'en', 'score': 0.9999953175287921}, {'language': 'ja', 'score': 0.9999995113292625}, {'language': 'ja', 'score': 0.9999999998153348}, {'language': 'ja', 'score': 0.9999999843164686}, {'language': 'ja', 'score': 0.5714266972404577}, {'language': 'ja', 'score': 0.9999987121956736}, {'language': 'ja', 'score': 0.9999998615411999}, {'language': 'ja', 'score': 0.9999998496725171}, {'language': 'fa', 'score': 0.9999987443974515}, {'language': 'ja', 'score': 0.9999998798073086}, {'language': 'ja', 'score': 0.9999995978760361}, {'language': 'en', 'score': 0.999997159985606}, {'language': 'ja', 'score': 0.9999995611995387}, {'language': 'id', 'score': 0.9999967800905252}, {'language': 'en', 'score': 0.9999960885129815}, {'language': 'en', 'score': 0.9999965737355944}, {'language': 'en', 'score': 0.999994541303866}, {'language': 'ja', 'score': 0.9999999975030289}, {'language': 'en', 'score': 0.9999956929766617}, {'language': 'ja', 'score': 0.9999999840883399}, {'language': 'en', 'score': 0.9999978405937835}, {'language': 'ja', 'score': 0.9999997939666688}, {'language': 'ja', 'score': 0.9999999386023671}, {'language': 'ja', 'score': 0.7142845562275524}, {'language': 'ja', 'score': 0.9999999996062522}, {'language': 'ja', 'score': 0.999999769774523}, {'language': 'ja', 'score': 0.9999997449162434}, {'language': 'ja', 'score': 0.9999999996000147}, {'language': 'es', 'score': 0.9999962243445237}, {'language': 'ja', 'score': 0.9999999994809081}, {'language': 'ja', 'score': 0.9999982065781277}, {'language': 'en', 'score': 0.999997093575554}, {'language': 'ja', 'score': 0.9999999959905834}, {'language': 'ja', 'score': 0.9999997371819027}, {'language': 'en', 'score': 0.9999948756173067}, {'language': 'ar', 'score': 0.9999978712194054}, {'language': 'ja', 'score': 0.9999999723661548}, {'language': 'ja', 'score': 0.9999999948099588}, {'language': 'en', 'score': 0.9999974522557791}, {'language': 'en', 'score': 0.9999972433691056}, {'language': 'ja', 'score': 0.9999989281330282}, {'language': 'ja', 'score': 0.9999982118479195}, {'language': 'en', 'score': 0.9999973668553986}, {'language': 'ar', 'score': 0.9999967891381882}, {'language': 'ja', 'score': 0.9999995539802558}, {'language': 'ja', 'score': 0.9999987871066671}, {'language': 'en', 'score': 0.9999960083027328}, {'language': 'en', 'score': 0.9999959555756076}, {'language': 'ja', 'score': 0.8571427814168191}, {'language': 'fa', 'score': 0.9999972882817376}, {'language': 'en', 'score': 0.8571407726029944}, {'language': 'en', 'score': 0.9999958329411893}, {'language': 'ja', 'score': 0.9999996789465422}, {'language': 'ja', 'score': 0.9999998498397997}, {'language': 'ja', 'score': 0.9999996709251626}, {'language': 'ja', 'score': 0.9999994859417587}, {'language': 'ja', 'score': 0.9999997465390276}, {'language': 'ja', 'score': 0.9999976815188906}, {'language': 'ja', 'score': 0.9999999236786401}, {'language': 'ja', 'score': 0.9999999576879725}, {'language': 'ja', 'score': 0.9999991933377438}, {'language': 'ja', 'score': 0.9999986079547166}, {'language': 'ja', 'score': 0.9999998328569829}, {'language': 'ja', 'score': 0.999999865059385}, {'language': 'en', 'score': 0.9999957113490181}, {'language': 'ko', 'score': 0.9999980171503999}, {'language': 'ja', 'score': 0.9999999998047004}, {'language': 'ja', 'score': 0.7142846632763733}, {'language': 'he', 'score': 0.9999999990194385}, {'language': 'ja', 'score': 0.9999998868885487}, {'language': 'ja', 'score': 0.9999999176405809}, {'language': 'ja', 'score': 0.9999999851672445}, {'language': 'pt', 'score': 0.9999957076542465}, {'language': 'en', 'score': 0.9999966016674953}, {'language': 'ja', 'score': 0.9999996703959797}, {'language': 'ja', 'score': 0.99999933259313}, {'language': 'ja', 'score': 0.8571418219485809}, {'language': 'ja', 'score': 0.8571420959622713}, {'language': 'ja', 'score': 0.9999999999816249}, {'language': 'tr', 'score': 0.9999989843151829}, {'language': 'en', 'score': 0.9999947879249331}, {'language': 'ja', 'score': 0.9999999887674167}, {'language': 'en', 'score': 0.9999948241861505}, {'language': 'ja', 'score': 0.9999999779782406}, {'language': 'pt', 'score': 0.999995528760179}, {'language': 'ja', 'score': 0.9999999596962204}, {'language': 'pt', 'score': 0.9999976409433968}, {'language': 'ja', 'score': 0.9999978062475166}, {'language': 'ja', 'score': 0.8571421061346021}, {'language': 'en', 'score': 0.9999958745450221}, {'language': 'ar', 'score': 0.9999990309703309}, {'language': 'pt', 'score': 0.9999961013304701}, {'language': 'ja', 'score': 0.9999994330268708}, {'language': 'ja', 'score': 0.9999999498967078}, {'language': 'en', 'score': 0.9999982055455687}, {'language': 'ja', 'score': 0.9999996668231292}, {'language': 'ja', 'score': 0.9999996647691815}, {'language': 'ja', 'score': 0.9999999919791164}, {'language': 'de', 'score': 0.9999973670959096}, {'language': 'ja', 'score': 0.9999999938211066}, {'language': 'tr', 'score': 0.9999996651778145}, {'language': 'ja', 'score': 0.9999998951757836}, {'language': 'en', 'score': 0.999994425591713}, {'language': 'ja', 'score': 0.9999999350217817}, {'language': 'zh-cn', 'score': 0.9999978157994116}, {'language': 'ja', 'score': 0.9999999915668168}, {'language': 'ja', 'score': 0.9999999471323903}, {'language': 'ja', 'score': 0.9999999270235346}, {'language': 'en', 'score': 0.9999963314912486}, {'language': 'ja', 'score': 0.9999999946544824}, {'language': 'ja', 'score': 0.9999998195913434}, {'language': 'ja', 'score': 0.9999997242613154}, {'language': 'tr', 'score': 0.9999981954789877}, {'language': 'ja', 'score': 0.999999897500351}, {'language': 'ja', 'score': 0.9999991935331659}, {'language': 'ja', 'score': 0.9999999128704777}, {'language': 'ja', 'score': 0.9999981797436526}, {'language': 'ja', 'score': 0.9999999977336123}, {'language': 'ja', 'score': 0.9999986033845556}, {'language': 'ja', 'score': 0.9999999796483912}, {'language': 'ja', 'score': 0.9999998002739797}, {'language': 'en', 'score': 0.9999962320999883}, {'language': 'ja', 'score': 0.9999988620676428}, {'language': 'ja', 'score': 0.9999990216445281}, {'language': 'ja', 'score': 0.9999993370520361}, {'language': 'ja', 'score': 0.999999261519512}, {'language': 'ja', 'score': 0.8571418840553219}, {'language': 'ja', 'score': 0.8571417531481638}, {'language': 'ja', 'score': 0.9999999938028199}, {'language': 'ja', 'score': 0.9999999610018511}, {'language': 'ja', 'score': 0.9999990614803967}, {'language': 'ja', 'score': 0.9999989752544677}, {'language': 'en', 'score': 0.9999979452758677}, {'language': 'ja', 'score': 0.9999999999997722}, {'language': 'ja', 'score': 0.999999997892965}, {'language': 'ja', 'score': 0.9999999037136729}, {'language': 'en', 'score': 0.9999953063552368}, {'language': 'ja', 'score': 0.9999999594285768}, {'language': 'pt', 'score': 0.9999961306558472}, {'language': 'en', 'score': 0.9999971823217604}, {'language': 'ar', 'score': 0.9999968143370608}, {'language': 'ja', 'score': 0.9999999955289257}, {'language': 'en', 'score': 0.999996484226439}, {'language': 'en', 'score': 0.9999953132189642}, {'language': 'en', 'score': 0.9999964102439046}, {'language': 'ja', 'score': 0.9999991501390583}, {'language': 'en', 'score': 0.9999967113906043}, {'language': 'ja', 'score': 0.9999986605814422}, {'language': 'en', 'score': 0.9999984911711342}, {'language': 'ja', 'score': 0.9999999439249464}, {'language': 'ja', 'score': 0.9999995939097875}, {'language': 'en', 'score': 0.9999960140611268}, {'language': 'ja', 'score': 0.9999988179647674}, {'language': 'zh-tw', 'score': 0.8571401688568145}, {'language': 'ja', 'score': 0.9999999988318566}, {'language': 'en', 'score': 0.9999945998270915}, {'language': 'en', 'score': 0.9999975495180432}, {'language': 'ja', 'score': 0.9999986867538433}, {'language': 'ja', 'score': 0.9999997852335822}, {'language': 'en', 'score': 0.999995373937629}, {'language': 'ja', 'score': 0.99999999964966}, {'language': 'ja', 'score': 0.9999999688796859}, {'language': 'en', 'score': 0.9999979361875246}, {'language': 'en', 'score': 0.9999962385123861}, {'language': 'ja', 'score': 0.9999997245045071}, {'language': 'ja', 'score': 0.9999999927411959}, {'language': 'en', 'score': 0.9999984104061704}, {'language': 'it', 'score': 0.9999935020570446}, {'language': 'ja', 'score': 0.9999999831737931}, {'language': 'ja', 'score': 0.9999987808443837}, {'language': 'es', 'score': 0.9999965285866446}, {'language': 'ja', 'score': 0.9999993609464781}, {'language': 'ja', 'score': 0.9999999877637678}, {'language': 'en', 'score': 0.9999951204398797}, {'language': 'ja', 'score': 0.9999985984325341}, {'language': 'ja', 'score': 0.9999998831859045}, {'language': 'en', 'score': 0.9999954895575579}, {'language': 'ja', 'score': 0.7142839861041481}, {'language': 'ja', 'score': 0.9999999688415206}, {'language': 'ja', 'score': 0.9999999999198543}, {'language': 'ja', 'score': 0.9999999474971907}, {'language': 'en', 'score': 0.9999972074464909}, {'language': 'vi', 'score': 0.8571403014895145}, {'language': 'ja', 'score': 0.9999999979342207}, {'language': 'ja', 'score': 0.9999999998706695}, {'language': 'ja', 'score': 0.9999995516485928}, {'language': 'en', 'score': 0.9999959699266276}, {'language': 'ja', 'score': 0.9999974319194266}, {'language': 'ja', 'score': 0.9999991628767623}, {'language': 'en', 'score': 0.9999973300211007}, {'language': 'pt', 'score': 0.9999975868599184}, {'language': 'en', 'score': 0.9999973106437817}, {'language': 'ja', 'score': 0.8571387734471542}, {'language': 'en', 'score': 0.9999975727988074}, {'language': 'en', 'score': 0.9999967795807184}, {'language': 'en', 'score': 0.9999964417746081}, {'language': 'ja', 'score': 0.9999985617834868}, {'language': 'ja', 'score': 0.9999965151998129}, {'language': 'en', 'score': 0.999995917579993}, {'language': 'ja', 'score': 0.9999998994064945}, {'language': 'en', 'score': 0.9999957806361617}, {'language': 'ja', 'score': 0.9999985612986311}, {'language': 'ja', 'score': 0.8571411792732258}, {'language': 'ja', 'score': 0.7142844233989037}, {'language': 'de', 'score': 0.7142836948323954}, {'language': 'ja', 'score': 0.999999999962793}, {'language': 'ja', 'score': 0.9999999371084323}, {'language': 'ja', 'score': 0.8571420521678574}, {'language': 'ja', 'score': 0.9999979932499853}, {'language': 'en', 'score': 0.9999969363803061}, {'language': 'ja', 'score': 0.9999997091965411}, {'language': 'ja', 'score': 0.9999995842728079}, {'language': 'en', 'score': 0.9999967498253631}, {'language': 'en', 'score': 0.9999980963832938}, {'language': 'ja', 'score': 0.9999999755042466}, {'language': 'en', 'score': 0.9999949039567482}, {'language': 'de', 'score': 0.9999971821269463}, {'language': 'ja', 'score': 0.9999995741085554}, {'language': 'en', 'score': 0.9999934712280506}, {'language': 'ja', 'score': 0.9999999842403964}, {'language': 'ja', 'score': 0.9999999832229156}, {'language': 'ja', 'score': 0.9999999697443909}, {'language': 'ja', 'score': 0.9999999217511477}, {'language': 'ja', 'score': 0.9999988821793769}, {'language': 'ko', 'score': 0.5714283578349427}, {'language': 'en', 'score': 0.9999960868404297}, {'language': 'ja', 'score': 0.9999994080857819}, {'language': 'ja', 'score': 0.9999999887872537}, {'language': 'ja', 'score': 0.9999990640820463}, {'language': 'ja', 'score': 0.9999999790249687}, {'language': 'ja', 'score': 0.9999997901268851}, {'language': 'en', 'score': 0.9999976144075133}, {'language': 'ja', 'score': 0.9999995182150156}, {'language': 'en', 'score': 0.9999964886483143}, {'language': 'ja', 'score': 0.9999988182827366}, {'language': 'tr', 'score': 0.9999979622264444}, {'language': 'ko', 'score': 0.9999981958553608}, {'language': 'en', 'score': 0.9999969923731691}, {'language': 'ko', 'score': 0.7142833335524407}, {'language': 'ja', 'score': 0.999999999916019}, {'language': 'en', 'score': 0.999995810298993}, {'language': 'ja', 'score': 0.9999999992733071}, {'language': 'ja', 'score': 0.9999994870875977}, {'language': 'en', 'score': 0.999993688294215}, {'language': 'ja', 'score': 0.9999984236495073}, {'language': 'en', 'score': 0.999997205317346}, {'language': 'ja', 'score': 0.9999999768054669}, {'language': 'ja', 'score': 0.9999999989463674}, {'language': 'id', 'score': 0.5714271202824773}, {'language': 'ja', 'score': 0.9999995968870684}, {'language': 'ja', 'score': 0.999999764318048}, {'language': 'en', 'score': 0.9999980907990178}, {'language': 'ja', 'score': 0.9999985672587545}, {'language': 'ja', 'score': 0.9999998975733704}, {'language': 'en', 'score': 0.9999969847342493}, {'language': 'ja', 'score': 0.9999997035375137}, {'language': 'ja', 'score': 0.9999999996062926}, {'language': 'ja', 'score': 0.9999998024960919}, {'language': 'ja', 'score': 0.9999999935290769}, {'language': 'id', 'score': 0.9999957160446118}, {'language': 'en', 'score': 0.9999964700725623}, {'language': 'en', 'score': 0.9999963456393374}, {'language': 'en', 'score': 0.9999959700097927}, {'language': 'en', 'score': 0.9999957366492584}, {'language': 'en', 'score': 0.9999979445805068}, {'language': 'ja', 'score': 0.5714279378654012}, {'language': 'en', 'score': 0.9999952794868402}, {'language': 'ja', 'score': 0.999999919386495}, {'language': 'en', 'score': 0.9999964712792081}, {'language': 'en', 'score': 0.9999976401689131}, {'language': 'ja', 'score': 0.9999992655501289}, {'language': 'en', 'score': 0.999998636701758}, {'language': 'ja', 'score': 0.9999997208744118}, {'language': 'ja', 'score': 0.999999020343096}, {'language': 'de', 'score': 0.9999959980851775}, {'language': 'ja', 'score': 0.9999998365982952}, {'language': 'ja', 'score': 0.9999998590975115}, {'language': 'en', 'score': 0.9999958083158573}, {'language': 'ko', 'score': 0.5714277293977374}, {'language': 'en', 'score': 0.999994876174618}, {'language': 'en', 'score': 0.9999987975997044}, {'language': 'ja', 'score': 0.9999999012580496}, {'language': 'en', 'score': 0.9999979424972513}, {'language': 'ja', 'score': 0.9999999068841143}, {'language': 'en', 'score': 0.9999960281051474}, {'language': 'ja', 'score': 0.9999999748172271}, {'language': 'ja', 'score': 0.9999987625273328}, {'language': 'ja', 'score': 0.9999996221979797}, {'language': 'en', 'score': 0.9999956471405261}, {'language': 'ja', 'score': 0.9999999988262539}, {'language': 'en', 'score': 0.9999975063932472}, {'language': 'tr', 'score': 0.9999964281749658}, {'language': 'ja', 'score': 0.9999987555924515}, {'language': 'en', 'score': 0.99999719985792}, {'language': 'ja', 'score': 0.9999999970586845}, {'language': 'ja', 'score': 0.9999989574915175}, {'language': 'ja', 'score': 0.9999997311740791}, {'language': 'ja', 'score': 0.9999989746479984}, {'language': 'ja', 'score': 0.9999999999214433}, {'language': 'ja', 'score': 0.9999999930791477}, {'language': 'ja', 'score': 0.9999983032945853}, {'language': 'fa', 'score': 0.9999985124136779}, {'language': 'ja', 'score': 0.9999999325728932}, {'language': 'ja', 'score': 0.9999986965364702}, {'language': 'es', 'score': 0.9999960870677028}, {'language': 'ja', 'score': 0.9999985777120635}, {'language': 'ja', 'score': 0.9999999030787099}, {'language': 'ja', 'score': 0.9999999869642167}, {'language': 'ja', 'score': 0.9999989124038118}, {'language': 'ja', 'score': 0.9999999904140862}, {'language': 'ja', 'score': 0.9999999802024573}, {'language': 'ja', 'score': 0.9999999981193302}, {'language': 'nl', 'score': 0.4285696321276916}, {'language': 'en', 'score': 0.5714268779029482}, {'language': 'ja', 'score': 0.9999990661329813}, {'language': 'ja', 'score': 0.9999993504521183}, {'language': 'ja', 'score': 0.7142865395413562}, {'language': 'ja', 'score': 0.9999990018689617}, {'language': 'ja', 'score': 0.9999996865237067}, {'language': 'en', 'score': 0.9999966622528663}, {'language': 'ja', 'score': 0.9999987817922015}, {'language': 'pt', 'score': 0.9999971471417707}, {'language': 'tr', 'score': 0.9999983661215363}, {'language': 'en', 'score': 0.9999969412479582}, {'language': 'ja', 'score': 0.9999999991889112}, {'language': 'ja', 'score': 0.9999999997591895}, {'language': 'ja', 'score': 0.999999453598569}, {'language': 'en', 'score': 0.9999973946417776}, {'language': 'en', 'score': 0.9999964919602097}, {'language': 'ja', 'score': 0.9999986577334341}, {'language': 'ja', 'score': 0.5714276510577994}, {'language': 'en', 'score': 0.9999971941436785}, {'language': 'ja', 'score': 0.999999608172516}, {'language': 'en', 'score': 0.9999950379490592}, {'language': 'ja', 'score': 0.9999999825472591}, {'language': 'ja', 'score': 0.9999995117058225}, {'language': 'en', 'score': 0.9999955856447909}, {'language': 'ja', 'score': 0.9999973313553493}, {'language': 'en', 'score': 0.999995214027233}, {'language': 'ja', 'score': 0.9999999757276918}, {'language': 'ja', 'score': 0.9999998129640595}, {'language': 'ja', 'score': 0.9999989754444945}, {'language': 'ja', 'score': 0.9999997364875272}, {'language': 'pt', 'score': 0.9999960731069033}, {'language': 'ja', 'score': 0.9999993763121957}, {'language': 'en', 'score': 0.9999974207829593}, {'language': 'en', 'score': 0.9999964094323972}, {'language': 'en', 'score': 0.9999966279831968}, {'language': 'ko', 'score': 0.9999999674958661}, {'language': 'en', 'score': 0.9999949992830572}, {'language': 'ja', 'score': 0.9999999969346661}, {'language': 'en', 'score': 0.9999971341831569}, {'language': 'ja', 'score': 0.9999997707927711}, {'language': 'ja', 'score': 0.9999999356148097}, {'language': 'ja', 'score': 0.9999999988360093}, {'language': 'ja', 'score': 0.9999987831345183}, {'language': 'ja', 'score': 0.9999993092568719}, {'language': 'ja', 'score': 0.9999999881272884}, {'language': 'ja', 'score': 0.9999990732538449}, {'language': 'en', 'score': 0.9999954208297197}, {'language': 'lt', 'score': 0.8571388062912733}, {'language': 'ja', 'score': 0.9999999918983922}, {'language': 'en', 'score': 0.9999980354080074}, {'language': 'ja', 'score': 0.9999994342119584}, {'language': 'ja', 'score': 0.9999996442991282}, {'language': 'ja', 'score': 0.9999999967101825}, {'language': 'en', 'score': 0.9999959553522864}, {'language': 'ja', 'score': 0.9999999983180792}, {'language': 'ja', 'score': 0.9999993001962061}, {'language': 'ja', 'score': 0.99999929523678}, {'language': 'en', 'score': 0.9999972963735222}, {'language': 'ja', 'score': 0.9999983836194277}, {'language': 'ja', 'score': 0.9999987476555878}, {'language': 'ar', 'score': 0.9999995780525458}, {'language': 'ja', 'score': 0.9999999874120051}, {'language': 'en', 'score': 0.9999954374909406}, {'language': 'ja', 'score': 0.9999984546551991}, {'language': 'de', 'score': 0.9999973244557856}, {'language': 'ja', 'score': 0.9999999846450098}, {'language': 'en', 'score': 0.9999965464919449}, {'language': 'ja', 'score': 0.9999987501244914}, {'language': 'ja', 'score': 0.9999978392312825}, {'language': 'en', 'score': 0.9999952502250604}, {'language': 'ja', 'score': 0.9999999609946189}, {'language': 'ko', 'score': 0.9999965304724818}, {'language': 'en', 'score': 0.9999982876312413}, {'language': 'zh-tw', 'score': 0.8571419996970663}, {'language': 'en', 'score': 0.999996880666687}, {'language': 'ja', 'score': 0.9999994445435921}, {'language': 'ja', 'score': 0.9999997778552389}, {'language': 'ja', 'score': 0.5714289255203833}, {'language': 'en', 'score': 0.9999964859925521}, {'language': 'ja', 'score': 0.9999999789412617}, {'language': 'ja', 'score': 0.9999999070324419}, {'language': 'en', 'score': 0.9999971188800882}, {'language': 'ja', 'score': 0.9999995885314472}, {'language': 'en', 'score': 0.9999974390851928}, {'language': 'en', 'score': 0.9999987246992015}, {'language': 'en', 'score': 0.9999972453786983}, {'language': 'en', 'score': 0.9999968965052268}, {'language': 'en', 'score': 0.9999973841189286}, {'language': 'ja', 'score': 0.9999999678017696}, {'language': 'ja', 'score': 0.9999987339232039}, {'language': 'ja', 'score': 0.9999999733744271}, {'language': 'ja', 'score': 0.999999997739454}, {'language': 'ja', 'score': 0.9999999996985398}, {'language': 'ja', 'score': 0.9999984626079981}, {'language': 'en', 'score': 0.9999971828745622}, {'language': 'en', 'score': 0.9999968403825792}, {'language': 'it', 'score': 0.9999953102167636}, {'language': 'ja', 'score': 0.999999999730101}, {'language': 'en', 'score': 0.9999969054523207}, {'language': 'ja', 'score': 0.9999987594606384}, {'language': 'ja', 'score': 0.9999994944342371}, {'language': 'en', 'score': 0.9999956656621698}, {'language': 'ja', 'score': 0.9999998123440086}, {'language': 'ja', 'score': 0.9999998169101247}, {'language': 'en', 'score': 0.9999962670844803}, {'language': 'en', 'score': 0.9999963896307298}, {'language': 'en', 'score': 0.9999976719330453}, {'language': 'en', 'score': 0.9999976032083431}, {'language': 'ja', 'score': 0.9999985908846083}, {'language': 'ja', 'score': 0.9999996719680808}, {'language': 'ja', 'score': 0.9999994499680235}, {'language': 'ja', 'score': 0.99999793555935}, {'language': 'en', 'score': 0.9999961878720215}, {'language': 'ja', 'score': 0.9999999997080395}, {'language': 'ja', 'score': 0.9999984754282382}, {'language': 'ja', 'score': 0.9999996005196661}, {'language': 'ko', 'score': 0.999998793921737}, {'language': 'ja', 'score': 0.8571431560893653}, {'language': 'ja', 'score': 0.9999985211581184}, {'language': 'en', 'score': 0.9999964450080827}, {'language': 'ko', 'score': 0.5714273114612908}, {'language': 'ko', 'score': 0.9999979534558058}, {'language': 'en', 'score': 0.9999968282958206}, {'language': 'ja', 'score': 0.9999987645980933}, {'language': 'ja', 'score': 0.9999983807464177}, {'language': 'en', 'score': 0.9999964532066145}, {'language': 'ja', 'score': 0.9999999974544069}, {'language': 'ja', 'score': 0.9999999963200615}, {'language': 'ja', 'score': 0.9999999984080585}, {'language': 'ja', 'score': 0.9999998816937283}, {'language': 'ja', 'score': 0.9999993980927677}, {'language': 'id', 'score': 0.9999968968399753}, {'language': 'ja', 'score': 0.9999992166548091}, {'language': 'en', 'score': 0.9999991459196049}, {'language': 'tr', 'score': 0.9999971362483723}, {'language': 'en', 'score': 0.9999969834647009}, {'language': 'ja', 'score': 0.9999977411396438}, {'language': 'en', 'score': 0.9999979501912356}, {'language': 'en', 'score': 0.9999976710835866}, {'language': 'ja', 'score': 0.5714286037909058}, {'language': 'en', 'score': 0.999996240261007}, {'language': 'en', 'score': 0.9999969992224653}, {'language': 'ja', 'score': 0.9999993152857409}, {'language': 'ar', 'score': 0.999996720485479}, {'language': 'ja', 'score': 0.999998699810315}, {'language': 'ja', 'score': 0.9999999999986132}, {'language': 'ja', 'score': 0.9999999384685161}, {'language': 'en', 'score': 0.9999952750619088}, {'language': 'en', 'score': 0.9999971084219745}, {'language': 'ja', 'score': 0.999999991861186}, {'language': 'en', 'score': 0.9999985500677859}, {'language': 'ja', 'score': 0.9999996744762085}, {'language': 'ja', 'score': 0.9999986810744314}, {'language': 'en', 'score': 0.9999948448646248}, {'language': 'en', 'score': 0.9999959079756375}, {'language': 'ja', 'score': 0.9999999780526139}, {'language': 'ja', 'score': 0.9999982973632018}, {'language': 'ja', 'score': 0.9999999343815678}, {'language': 'en', 'score': 0.9999974076667854}, {'language': 'en', 'score': 0.9999953853143266}, {'language': 'en', 'score': 0.9999964859122902}, {'language': 'ko', 'score': 0.7142860157295738}, {'language': 'ja', 'score': 0.9999999968143753}, {'language': 'es', 'score': 0.9999954579961069}, {'language': 'en', 'score': 0.9999969978854919}, {'language': 'ja', 'score': 0.9999999885585404}, {'language': 'ja', 'score': 0.9999999217038171}, {'language': 'en', 'score': 0.9999972749293342}, {'language': 'ja', 'score': 0.9999997565602463}, {'language': 'ja', 'score': 0.9999992438332743}, {'language': 'tr', 'score': 0.9999960911027732}, {'language': 'en', 'score': 0.9999955828611462}, {'language': 'en', 'score': 0.9999973528938855}, {'language': 'ja', 'score': 0.9999986823507182}, {'language': 'ar', 'score': 0.9999982228177564}, {'language': 'ja', 'score': 0.9999992641949469}, {'language': 'en', 'score': 0.9999939712733958}, {'language': 'tr', 'score': 0.9999976934601602}, {'language': 'ja', 'score': 0.999998487405896}, {'language': 'en', 'score': 0.9999976359205331}, {'language': 'en', 'score': 0.9999983560672205}, {'language': 'ja', 'score': 0.9999996152837011}, {'language': 'ja', 'score': 0.9999995115894654}, {'language': 'ko', 'score': 0.999999933193546}, {'language': 'en', 'score': 0.9999961556008615}, {'language': 'ja', 'score': 0.999998728203995}, {'language': 'ja', 'score': 0.9999999232455411}, {'language': 'ja', 'score': 0.9999997133347569}, {'language': 'ja', 'score': 0.999999998654926}, {'language': 'ja', 'score': 0.9999999967315734}, {'language': 'tr', 'score': 0.999998208363857}, {'language': 'en', 'score': 0.9999960245085624}, {'language': 'en', 'score': 0.9999969167443828}, {'language': 'en', 'score': 0.999997803273491}, {'language': 'en', 'score': 0.9999969244235002}, {'language': 'ja', 'score': 0.9999995933247168}, {'language': 'en', 'score': 0.9999968549845746}, {'language': 'ja', 'score': 0.999997433977694}, {'language': 'ja', 'score': 0.9999986454061848}, {'language': 'en', 'score': 0.9999977391609638}, {'language': 'ja', 'score': 0.9999999852727829}, {'language': 'en', 'score': 0.9999941546267344}, {'language': 'en', 'score': 0.9999960342278986}, {'language': 'en', 'score': 0.9999972915339823}, {'language': 'en', 'score': 0.999996327824184}, {'language': 'ja', 'score': 0.99999999962216}, {'language': 'en', 'score': 0.9999982113235468}, {'language': 'en', 'score': 0.9999927943868002}, {'language': 'ja', 'score': 0.9999999985980174}, {'language': 'ja', 'score': 0.9999998610363129}, {'language': 'en', 'score': 0.999995778834079}, {'language': 'ko', 'score': 0.9999981497797368}, {'language': 'ja', 'score': 0.9999999981100247}, {'language': 'ja', 'score': 0.9999998843681218}, {'language': 'ja', 'score': 0.9999999969783918}, {'language': 'en', 'score': 0.9999952368321846}, {'language': 'ja', 'score': 0.9999996105347843}, {'language': 'ar', 'score': 0.9999987791800038}, {'language': 'ja', 'score': 0.9999990498725363}, {'language': 'ja', 'score': 0.9999995129212318}, {'language': 'ja', 'score': 0.9999999524200794}, {'language': 'ja', 'score': 0.9999999983488606}, {'language': 'en', 'score': 0.999995484445337}, {'language': 'ja', 'score': 0.9999997768918214}, {'language': 'en', 'score': 0.9999976159965089}, {'language': 'en', 'score': 0.9999962981759094}, {'language': 'ja', 'score': 0.9999996338184916}, {'language': 'ja', 'score': 0.9999975909881765}, {'language': 'ja', 'score': 0.9999991302409696}, {'language': 'pl', 'score': 0.9999981935690938}, {'language': 'tr', 'score': 0.9999972485455115}, {'language': 'en', 'score': 0.9999974228022196}, {'language': 'ja', 'score': 0.9999992585758903}, {'language': 'ja', 'score': 0.9999997863226809}, {'language': 'ja', 'score': 0.9999979068887348}, {'language': 'ja', 'score': 0.9999999336933739}, {'language': 'ja', 'score': 0.9999999999467013}, {'language': 'ja', 'score': 0.999999847714298}, {'language': 'ja', 'score': 0.9999997063483258}, {'language': 'ja', 'score': 0.9999999612410286}, {'language': 'ko', 'score': 0.999999847528207}, {'language': 'ja', 'score': 0.999999999999325}, {'language': 'en', 'score': 0.9999967457729718}, {'language': 'es', 'score': 0.9999955051530043}, {'language': 'en', 'score': 0.999995408059737}, {'language': 'ja', 'score': 0.9999999944627418}, {'language': 'en', 'score': 0.9999957316254074}, {'language': 'ja', 'score': 0.9999999334646271}, {'language': 'ja', 'score': 0.9999989887785827}, {'language': 'en', 'score': 0.9999964771752153}, {'language': 'ko', 'score': 0.5714277319828441}, {'language': 'ja', 'score': 0.999998877129337}, {'language': 'ja', 'score': 0.9999997037899462}, {'language': 'en', 'score': 0.8569280220167392}, {'language': 'ja', 'score': 0.9999997122082538}, {'language': 'ja', 'score': 0.9999999868589908}, {'language': 'ja', 'score': 0.999999985134957}, {'language': 'ja', 'score': 0.9999999742923756}, {'language': 'ko', 'score': 0.8571421898701406}, {'language': 'ja', 'score': 0.9999997644232778}, {'language': 'ja', 'score': 0.9999991506133488}, {'language': 'ja', 'score': 0.9999997848211232}, {'language': 'it', 'score': 0.9999958608087725}, {'language': 'ja', 'score': 0.9999992049309958}, {'language': 'ja', 'score': 0.9999999999813857}, {'language': 'en', 'score': 0.999996801818565}, {'language': 'en', 'score': 0.9999965820153767}, {'language': 'ja', 'score': 0.9999990427554641}, {'language': 'ja', 'score': 0.9999995919608939}, {'language': 'ja', 'score': 0.9999998197244584}, {'language': 'ja', 'score': 0.7142862377921894}, {'language': 'en', 'score': 0.9999977637343651}, {'language': 'en', 'score': 0.9999971783578387}, {'language': 'ja', 'score': 0.9999999967772327}, {'language': 'en', 'score': 0.9999973339897705}, {'language': 'ja', 'score': 0.7142848510632938}, {'language': 'ja', 'score': 0.9999992408297211}, {'language': 'ja', 'score': 0.9999999483525122}, {'language': 'ja', 'score': 0.9999999993467945}, {'language': 'pt', 'score': 0.9999963832502662}, {'language': 'ja', 'score': 0.9999999685416945}, {'language': 'en', 'score': 0.9999988158698347}, {'language': 'ja', 'score': 0.999999581066476}, {'language': 'tr', 'score': 0.9999995851759267}, {'language': 'ja', 'score': 0.9999990363478235}, {'language': 'es', 'score': 0.9999965035234217}, {'language': 'ja', 'score': 0.999999911724986}, {'language': 'pt', 'score': 0.7142848432212239}, {'language': 'en', 'score': 0.9999962566005418}, {'language': 'ja', 'score': 0.9999995522899114}, {'language': 'en', 'score': 0.9999955115612682}, {'language': 'ja', 'score': 0.9999997797905202}, {'language': 'ja', 'score': 0.9999999027058568}, {'language': 'en', 'score': 0.9999962522449579}, {'language': 'ja', 'score': 0.9999999612608605}, {'language': 'ja', 'score': 0.9999999896532494}, {'language': 'ja', 'score': 0.9999957497185711}, {'language': 'ja', 'score': 0.9999997093830824}, {'language': 'pt', 'score': 0.9999972110083055}, {'language': 'ja', 'score': 0.9999998926152311}, {'language': 'ja', 'score': 0.9999992274470658}, {'language': 'ja', 'score': 0.9999996509027866}, {'language': 'en', 'score': 0.9999953431980122}, {'language': 'ja', 'score': 0.999999648844554}, {'language': 'en', 'score': 0.9999979286524026}, {'language': 'ja', 'score': 0.9999999757320953}, {'language': 'ja', 'score': 0.9999999998007517}, {'language': 'en', 'score': 0.9999968723560488}, {'language': 'ja', 'score': 0.9999999767771144}, {'language': 'ja', 'score': 0.9999992858633335}, {'language': 'en', 'score': 0.9999989045655855}, {'language': 'ko', 'score': 0.5714266653576142}, {'language': 'tr', 'score': 0.9999982030266138}, {'language': 'en', 'score': 0.9999946720429155}, {'language': 'ja', 'score': 0.9999993519004862}, {'language': 'en', 'score': 0.9999950753153746}, {'language': 'ja', 'score': 0.9999999616641503}, {'language': 'ko', 'score': 0.9999978243060295}, {'language': 'ar', 'score': 0.9999992725143597}, {'language': 'ja', 'score': 0.9999999807802612}, {'language': 'ja', 'score': 0.9999991547248226}, {'language': 'ja', 'score': 0.9999995111351924}, {'language': 'en', 'score': 0.9999967977084671}, {'language': 'ko', 'score': 0.7142840860405464}, {'language': 'ja', 'score': 0.9999999940728692}, {'language': 'ja', 'score': 0.999999299581164}, {'language': 'ja', 'score': 0.9999967053840303}, {'language': 'en', 'score': 0.9999963517548852}, {'language': 'ja', 'score': 0.9999974504433213}, {'language': 'en', 'score': 0.9999987866756421}, {'language': 'en', 'score': 0.9999964996655891}, {'language': 'en', 'score': 0.9999952737148516}, {'language': 'ja', 'score': 0.9999987333676541}, {'language': 'en', 'score': 0.9999939482454894}, {'language': 'tr', 'score': 0.9999965918231629}, {'language': 'ja', 'score': 0.9999999997909095}, {'language': 'ko', 'score': 0.5714276869185891}, {'language': 'sw', 'score': 0.9999984299716831}, {'language': 'en', 'score': 0.9999972658358897}, {'language': 'ja', 'score': 0.9999996708910496}, {'language': 'ja', 'score': 0.9999994450453836}, {'language': 'en', 'score': 0.9999973957183388}, {'language': 'es', 'score': 0.9999977291812531}, {'language': 'ja', 'score': 0.9999999623247657}, {'language': 'en', 'score': 0.9999965809328034}, {'language': 'ja', 'score': 0.9999994783851336}, {'language': 'en', 'score': 0.9999968409052464}, {'language': 'ja', 'score': 0.9999999999985918}, {'language': 'ja', 'score': 0.9999994886693977}, {'language': 'ja', 'score': 0.9999998057445838}, {'language': 'en', 'score': 0.9999965913004545}, {'language': 'ja', 'score': 0.9999977430559037}, {'language': 'ja', 'score': 0.9999996302853295}, {'language': 'ja', 'score': 0.999999996413645}, {'language': 'ja', 'score': 0.9999994572029901}, {'language': 'ja', 'score': 0.9999986325403677}, {'language': 'es', 'score': 0.9999943977581385}, {'language': 'ja', 'score': 0.9999986767619603}, {'language': 'ja', 'score': 0.9999991139788423}, {'language': 'en', 'score': 0.9999975958068432}, {'language': 'en', 'score': 0.9999988181726276}, {'language': 'en', 'score': 0.9999987246987144}, {'language': 'ja', 'score': 0.9999978983058144}, {'language': 'ja', 'score': 0.9999988836684748}, {'language': 'en', 'score': 0.9999958052458539}, {'language': 'en', 'score': 0.9999977210700325}, {'language': 'en', 'score': 0.9999965740420814}, {'language': 'ja', 'score': 0.9999989735260194}, {'language': 'ar', 'score': 0.9999971713906622}, {'language': 'ja', 'score': 0.9999999989168862}, {'language': 'en', 'score': 0.9999956277405481}, {'language': 'ja', 'score': 0.9999997725086154}, {'language': 'ja', 'score': 0.999999887021876}, {'language': 'ja', 'score': 0.9999994485011579}, {'language': 'ja', 'score': 0.9999999484822222}, {'language': 'en', 'score': 0.9999959156647389}, {'language': 'ja', 'score': 0.5714275676689442}, {'language': 'ja', 'score': 0.9999994287966962}, {'language': 'ja', 'score': 0.8571409947476453}, {'language': 'ja', 'score': 0.9999996342483706}, {'language': 'en', 'score': 0.9999945288145466}, {'language': 'ja', 'score': 0.9999999426338833}, {'language': 'ja', 'score': 0.9999999439147018}, {'language': 'ja', 'score': 0.9999999998639774}, {'language': 'ja', 'score': 0.9999993468174349}, {'language': 'ja', 'score': 0.9999999994100468}, {'language': 'ja', 'score': 0.9999998201197499}, {'language': 'ja', 'score': 0.999999991758596}, {'language': 'ja', 'score': 0.999999751271683}, {'language': 'zh-cn', 'score': 0.9999976843698396}, {'language': 'en', 'score': 0.9999986209707246}, {'language': 'ja', 'score': 0.9999999830660748}, {'language': 'de', 'score': 0.999997413756242}, {'language': 'en', 'score': 0.9999982112499395}, {'language': 'ja', 'score': 0.9999986924272044}, {'language': 'en', 'score': 0.9999965427820567}, {'language': 'ko', 'score': 0.9999982870403771}, {'language': 'en', 'score': 0.999996028839533}, {'language': 'en', 'score': 0.9999960801050791}, {'language': 'ja', 'score': 0.9999999414736527}, {'language': 'ja', 'score': 0.9999995289485536}, {'language': 'ja', 'score': 0.9999995107289856}, {'language': 'fa', 'score': 0.9999955486109744}, {'language': 'ja', 'score': 0.9999999265358568}, {'language': 'ko', 'score': 0.5714286584094989}, {'language': 'es', 'score': 0.9999975562002592}, {'language': 'zh-cn', 'score': 0.9999984069785375}, {'language': 'ja', 'score': 0.9999996604648702}, {'language': 'ja', 'score': 0.9999998605246907}, {'language': 'es', 'score': 0.9999947632466655}, {'language': 'en', 'score': 0.9999973870748597}, {'language': 'ja', 'score': 0.9999999579783864}, {'language': 'ja', 'score': 0.9999990797337428}, {'language': 'en', 'score': 0.9999951342797047}, {'language': 'ja', 'score': 0.9999999991201536}, {'language': 'ja', 'score': 0.9999986775637165}, {'language': 'en', 'score': 0.9999946818885962}, {'language': 'en', 'score': 0.9999964383625474}, {'language': 'ja', 'score': 0.9999987215418386}, {'language': 'es', 'score': 0.99999652472882}, {'language': 'en', 'score': 0.9999973507115998}, {'language': 'ja', 'score': 0.9999996564672473}, {'language': 'ko', 'score': 0.8571398269694824}, {'language': 'es', 'score': 0.9999983346218428}, {'language': 'ja', 'score': 0.9999995704711689}, {'language': 'en', 'score': 0.999996506401859}, {'language': 'pt', 'score': 0.999994967616282}, {'language': 'en', 'score': 0.9999949394680505}, {'language': 'ja', 'score': 0.9999987839538999}, {'language': 'en', 'score': 0.9999952710714967}, {'language': 'en', 'score': 0.9999954755057484}, {'language': 'en', 'score': 0.9999972801776082}, {'language': 'ja', 'score': 0.9999984163906211}, {'language': 'ja', 'score': 0.9999994338093615}, {'language': 'en', 'score': 0.9999976415865233}, {'language': 'en', 'score': 0.9999970694848647}, {'language': 'ja', 'score': 0.9999999595882958}, {'language': 'en', 'score': 0.9999971328135957}, {'language': 'ja', 'score': 0.9999999033357877}, {'language': 'ja', 'score': 0.9999985129971036}, {'language': 'en', 'score': 0.9999975327833006}, {'language': 'en', 'score': 0.9999972025162214}, {'language': 'ja', 'score': 0.9999992143812791}, {'language': 'ja', 'score': 0.9999999722248972}, {'language': 'ja', 'score': 0.9999993308131747}, {'language': 'ja', 'score': 0.9999996830196421}, {'language': 'en', 'score': 0.9999981582848133}, {'language': 'ja', 'score': 0.9999997706637233}, {'language': 'ja', 'score': 0.9999999998599385}, {'language': 'ja', 'score': 0.9999999998050227}, {'language': 'ja', 'score': 0.9999983673664627}, {'language': 'pt', 'score': 0.9999969944189308}, {'language': 'pt', 'score': 0.9999943691504041}, {'language': 'en', 'score': 0.9999979633881033}, {'language': 'ja', 'score': 0.9999992289560762}, {'language': 'ja', 'score': 0.9999999734168836}, {'language': 'pt', 'score': 0.999994496089507}, {'language': 'ja', 'score': 0.999999999999148}, {'language': 'fr', 'score': 0.9999976084087068}, {'language': 'ja', 'score': 0.9999999993804785}, {'language': 'fr', 'score': 0.9999969547261733}, {'language': 'fr', 'score': 0.9999981119748513}, {'language': 'pt', 'score': 0.9999969605256316}, {'language': 'ja', 'score': 0.9999999849448857}, {'language': 'en', 'score': 0.9999966758362853}, {'language': 'fr', 'score': 0.9999949561884566}, {'language': 'fr', 'score': 0.9999955342239041}, {'language': 'ja', 'score': 0.9999976106393198}, {'language': 'et', 'score': 0.570196369364663}, {'language': 'es', 'score': 0.999995732780247}, {'language': 'fr', 'score': 0.9999973920812293}, {'language': 'id', 'score': 0.999994012795223}, {'language': 'en', 'score': 0.9999989590493756}, {'language': 'en', 'score': 0.9999957078506619}, {'language': 'fr', 'score': 0.9999955948541123}, {'language': 'ja', 'score': 0.9999999982509231}, {'language': 'fr', 'score': 0.9999948171031834}, {'language': 'en', 'score': 0.9999957216361738}, {'language': 'en', 'score': 0.9999956544737472}, {'language': 'fr', 'score': 0.9999975035231911}, {'language': 'fr', 'score': 0.999996738373367}, {'language': 'fr', 'score': 0.9999978582086215}, {'language': 'fr', 'score': 0.9999965186495192}, {'language': 'en', 'score': 0.9999968011468241}, {'language': 'fr', 'score': 0.9999973399201632}, {'language': 'fr', 'score': 0.9999959949812118}, {'language': 'pt', 'score': 0.9999977642423225}, {'language': 'en', 'score': 0.9999952309835775}, {'language': 'en', 'score': 0.9999954979560389}, {'language': 'fr', 'score': 0.9999969854813374}, {'language': 'en', 'score': 0.99999751673238}, {'language': 'it', 'score': 0.5714277048949277}, {'language': 'en', 'score': 0.999996762473441}, {'language': 'pt', 'score': 0.9999947318094087}, {'language': 'en', 'score': 0.9999971549776072}, {'language': 'ja', 'score': 0.9999988661961351}, {'language': 'no', 'score': 0.9999946268631367}, {'language': 'fr', 'score': 0.9999968609567305}, {'language': 'de', 'score': 0.7142843955334304}, {'language': 'tl', 'score': 0.5714258924579921}, {'language': 'en', 'score': 0.9999983032348445}, {'language': 'ja', 'score': 0.9999999512197824}, {'language': 'ja', 'score': 0.9999999968915136}, {'language': 'ja', 'score': 0.999999999985946}, {'language': 'fr', 'score': 0.9999962897530724}, {'language': 'fr', 'score': 0.9999981395808546}, {'language': 'fr', 'score': 0.9999965384508676}, {'language': 'fr', 'score': 0.9999973246295012}, {'language': 'ja', 'score': 0.9999994293985547}, {'language': 'fr', 'score': 0.9999929496792638}, {'language': 'fr', 'score': 0.7142845640615024}, {'language': 'pl', 'score': 0.9999961462945355}, {'language': 'it', 'score': 0.8571418293917824}, {'language': 'fr', 'score': 0.9999979235054057}, {'language': 'ja', 'score': 0.9999999999988205}, {'language': 'ja', 'score': 0.9999994507807342}, {'language': 'fr', 'score': 0.9999970976837677}, {'language': 'ja', 'score': 0.9999999544825507}, {'language': 'fr', 'score': 0.9999983260182881}, {'language': 'es', 'score': 0.9999952988871338}, {'language': 'fr', 'score': 0.9999970205784395}, {'language': 'fr', 'score': 0.9999948204306521}, {'language': 'fr', 'score': 0.9999947971626103}, {'language': 'en', 'score': 0.9999970634496753}, {'language': 'it', 'score': 0.8571381484150796}, {'language': 'id', 'score': 0.999994339246588}, {'language': 'fr', 'score': 0.999996703710512}, {'language': 'fr', 'score': 0.9999960440089869}, {'language': 'fr', 'score': 0.9999948125060658}, {'language': 'fr', 'score': 0.9999963551795708}, {'language': 'en', 'score': 0.9999974210340979}, {'language': 'fr', 'score': 0.999995920692484}, {'language': 'ja', 'score': 0.9999999866807283}, {'language': 'no', 'score': 0.9999961191539997}, {'language': 'fr', 'score': 0.9999975802322068}, {'language': 'fr', 'score': 0.9999966299896901}, {'language': 'en', 'score': 0.9999957317919312}, {'language': 'fr', 'score': 0.9999966672279278}, {'language': 'fr', 'score': 0.9999958292791498}, {'language': 'pt', 'score': 0.9999963239773837}, {'language': 'en', 'score': 0.9999943341113379}, {'language': 'en', 'score': 0.9999967213663985}, {'language': 'pl', 'score': 0.9999979962023566}, {'language': 'ja', 'score': 0.9999999997548079}, {'language': 'en', 'score': 0.9999954107123097}, {'language': 'ja', 'score': 0.9999999999956957}, {'language': 'fr', 'score': 0.9999974246906167}, {'language': 'fr', 'score': 0.9999964458775386}, {'language': 'ja', 'score': 0.9999999551705802}, {'language': 'fr', 'score': 0.9999980087874956}, {'language': 'fr', 'score': 0.9999954277923474}, {'language': 'en', 'score': 0.9999963897129144}, {'language': 'fr', 'score': 0.9999964940728444}, {'language': 'id', 'score': 0.9999956254247602}, {'language': 'en', 'score': 0.9999966066743682}, {'language': 'en', 'score': 0.9999954036585497}, {'language': 'es', 'score': 0.9999979551328264}, {'language': 'en', 'score': 0.9999982751948645}, {'language': 'fr', 'score': 0.9999959021947827}, {'language': 'pt', 'score': 0.9999966050633672}, {'language': 'en', 'score': 0.9999977634192019}, {'language': 'fr', 'score': 0.9999929466135229}, {'language': 'fr', 'score': 0.8571375781643615}, {'language': 'fr', 'score': 0.9999963297606846}, {'language': 'en', 'score': 0.8571379979022429}, {'language': 'en', 'score': 0.9999972408837917}, {'language': 'fr', 'score': 0.999996053269068}, {'language': 'en', 'score': 0.9999973166079518}, {'language': 'en', 'score': 0.9999956927299455}, {'language': 'ja', 'score': 0.9999999999846468}, {'language': 'pt', 'score': 0.7142840618374005}, {'language': 'fr', 'score': 0.9999960198375496}, {'language': 'th', 'score': 0.9999998839322992}, {'language': 'en', 'score': 0.9999958337474736}, {'language': 'fr', 'score': 0.9999946569481007}, {'language': 'en', 'score': 0.9999954087024888}, {'language': 'fr', 'score': 0.9999981569846377}, {'language': 'en', 'score': 0.9999962978083279}, {'language': 'en', 'score': 0.9999971040762778}, {'language': 'fr', 'score': 0.9999951885041718}, {'language': 'th', 'score': 0.9999993791285114}, {'language': 'ja', 'score': 0.9999993524890249}, {'language': 'en', 'score': 0.999996965373486}, {'language': 'en', 'score': 0.999996618367923}, {'language': 'fr', 'score': 0.9999986043051582}, {'language': 'en', 'score': 0.9999967466151115}, {'language': 'sl', 'score': 0.8571371835170676}, {'language': 'en', 'score': 0.9999980612332037}, {'language': 'en', 'score': 0.9999957033486353}, {'language': 'ja', 'score': 0.9999999990227004}, {'language': 'fr', 'score': 0.9999943106402771}, {'language': 'ja', 'score': 0.9999999102047901}, {'language': 'pt', 'score': 0.9999973637450077}, {'language': 'en', 'score': 0.9999974106431159}, {'language': 'fr', 'score': 0.9999975382282442}, {'language': 'fr', 'score': 0.9999988805831554}, {'language': 'en', 'score': 0.9999976515024247}, {'language': 'fr', 'score': 0.9999963768131596}, {'language': 'en', 'score': 0.9999957634521004}, {'language': 'ja', 'score': 0.9999999998034248}, {'language': 'uk', 'score': 0.9999945715557645}, {'language': 'fr', 'score': 0.9999966023429253}, {'language': 'en', 'score': 0.9999971570180901}, {'language': 'en', 'score': 0.9999980038404505}, {'language': 'ja', 'score': 0.9999999999999838}, {'language': 'en', 'score': 0.999997397666727}, {'language': 'fr', 'score': 0.9999980994378717}, {'language': 'en', 'score': 0.9999952487022732}, {'language': 'en', 'score': 0.9999963212558413}, {'language': 'en', 'score': 0.9999955505583547}, {'language': 'en', 'score': 0.9999958651307467}, {'language': 'ja', 'score': 0.9999994959163556}, {'language': 'en', 'score': 0.9999972461962401}, {'language': 'en', 'score': 0.9999951577990183}, {'language': 'fr', 'score': 0.9999974743520885}, {'language': 'fr', 'score': 0.9999975915402262}, {'language': 'es', 'score': 0.9999962914760674}, {'language': 'ja', 'score': 0.9999999999999427}, {'language': 'tr', 'score': 0.9999964480661725}, {'language': 'en', 'score': 0.99999614660817}, {'language': 'fr', 'score': 0.9999963413195587}, {'language': 'fr', 'score': 0.9999965783063338}, {'language': 'fr', 'score': 0.9999965564834852}, {'language': 'fr', 'score': 0.9999966318154485}, {'language': 'en', 'score': 0.9999981828194674}, {'language': 'es', 'score': 0.9999962504077383}, {'language': 'fr', 'score': 0.9999966529581302}, {'language': 'fr', 'score': 0.9999982453240837}, {'language': 'en', 'score': 0.9999957490229134}, {'language': 'fr', 'score': 0.9999983617429231}, {'language': 'pt', 'score': 0.9999960420066941}, {'language': 'en', 'score': 0.9999962364619804}, {'language': 'fr', 'score': 0.9999971366249872}, {'language': 'fr', 'score': 0.9999960999318779}, {'language': 'fr', 'score': 0.9999967696643082}, {'language': 'ja', 'score': 0.9999999999999236}, {'language': 'fr', 'score': 0.9999961681116837}, {'language': 'ca', 'score': 0.9999945555226345}, {'language': 'en', 'score': 0.9999959555869695}, {'language': 'en', 'score': 0.9999962991780108}, {'language': 'ja', 'score': 0.9999999988793671}, {'language': 'ja', 'score': 0.9999999810049571}, {'language': 'en', 'score': 0.42856890131766084}, {'language': 'ja', 'score': 0.9999999725389737}, {'language': 'ja', 'score': 0.9999999999998328}, {'language': 'en', 'score': 0.9999945893288937}, {'language': 'fr', 'score': 0.5714263468699239}, {'language': 'en', 'score': 0.9999962020054141}, {'language': 'ja', 'score': 0.9999998100679486}, {'language': 'fr', 'score': 0.9999959051674232}, {'language': 'es', 'score': 0.9999949218250396}, {'language': 'es', 'score': 0.7142827686550396}, {'language': 'ja', 'score': 0.9999999861176505}, {'language': 'fr', 'score': 0.9999951985477533}, {'language': 'en', 'score': 0.9999966550483265}, {'language': 'en', 'score': 0.9999977314251703}, {'language': 'fr', 'score': 0.9999964114296129}, {'language': 'ja', 'score': 0.9999989248966048}, {'language': 'sq', 'score': 0.8571407513461727}, {'language': 'fr', 'score': 0.9999944465220607}, {'language': 'pt', 'score': 0.9999950111742926}, {'language': 'ja', 'score': 0.9999998627159936}, {'language': 'en', 'score': 0.9999977422272242}, {'language': 'es', 'score': 0.9999966192198854}, {'language': 'en', 'score': 0.9999955712070285}, {'language': 'fr', 'score': 0.9999946976194141}, {'language': 'ja', 'score': 0.9999999628655449}, {'language': 'fr', 'score': 0.9999955906307225}, {'language': 'en', 'score': 0.999999114199313}, {'language': 'fr', 'score': 0.9999948851061068}, {'language': 'ja', 'score': 0.9999988212254632}, {'language': 'fr', 'score': 0.9999955994755042}, {'language': 'en', 'score': 0.9999985667466954}, {'language': 'en', 'score': 0.9999958016484186}, {'language': 'en', 'score': 0.9999968253610936}, {'language': 'en', 'score': 0.999996368527492}, {'language': 'en', 'score': 0.9999969011425701}, {'language': 'fr', 'score': 0.9999943046850821}, {'language': 'fr', 'score': 0.9999951308395285}, {'language': 'en', 'score': 0.999996482382637}, {'language': 'fr', 'score': 0.9999971835191666}, {'language': 'en', 'score': 0.9999941275478428}, {'language': 'fr', 'score': 0.9999970327487133}, {'language': 'ja', 'score': 0.9999999954632861}, {'language': 'en', 'score': 0.9999974999107502}, {'language': 'fr', 'score': 0.9999970893909713}, {'language': 'fr', 'score': 0.9999969891189319}, {'language': 'en', 'score': 0.8571384684599579}, {'language': 'fr', 'score': 0.9999975276330635}, {'language': 'en', 'score': 0.9999963646312827}, {'language': 'fr', 'score': 0.9999974813963534}, {'language': 'it', 'score': 0.9999973846561294}, {'language': 'en', 'score': 0.9999967748260392}, {'language': 'fr', 'score': 0.9999969221483114}, {'language': 'ja', 'score': 0.9999999197737548}, {'language': 'en', 'score': 0.9999963000154315}, {'language': 'es', 'score': 0.857140232950401}, {'language': 'fr', 'score': 0.9999976821180431}, {'language': 'es', 'score': 0.9999945472012011}, {'language': 'fr', 'score': 0.9999971959533906}, {'language': 'en', 'score': 0.9999967237747502}, {'language': 'en', 'score': 0.9999963698353407}, {'language': 'es', 'score': 0.9999942800594654}, {'language': 'en', 'score': 0.9999968331761286}, {'language': 'fr', 'score': 0.9999955634375646}, {'language': 'it', 'score': 0.9999958879362758}, {'language': 'en', 'score': 0.9999944045906882}, {'language': 'en', 'score': 0.9999947903267699}, {'language': 'pt', 'score': 0.9999955186441785}, {'language': 'fr', 'score': 0.9999974167545181}, {'language': 'en', 'score': 0.7142839963485379}, {'language': 'fr', 'score': 0.7142827408217757}, {'language': 'ja', 'score': 0.9999999976392662}, {'language': 'en', 'score': 0.999997378637113}, {'language': 'fr', 'score': 0.9999975739329179}, {'language': 'en', 'score': 0.7142821214377431}, {'language': 'fr', 'score': 0.9999960130814327}, {'language': 'en', 'score': 0.9999977765408389}, {'language': 'en', 'score': 0.9999938566032545}, {'language': 'en', 'score': 0.9999974787388738}, {'language': 'en', 'score': 0.9999960649982561}, {'language': 'en', 'score': 0.999996857782836}, {'language': 'es', 'score': 0.9999961839123566}, {'language': 'en', 'score': 0.9999974154528002}, {'language': 'en', 'score': 0.8582499929503631}, {'language': 'en', 'score': 0.9999968885926667}, {'language': 'fr', 'score': 0.99999728544516}, {'language': 'en', 'score': 0.9999966603833316}, {'language': 'fr', 'score': 0.8571376734302552}, {'language': 'fr', 'score': 0.9999957710824429}, {'language': 'en', 'score': 0.9999944103098336}, {'language': 'ja', 'score': 0.9999999999977979}, {'language': 'en', 'score': 0.9999970110162754}, {'language': 'fr', 'score': 0.9999943093840449}, {'language': 'ja', 'score': 0.9999999999999301}, {'language': 'en', 'score': 0.9999958875082421}, {'language': 'ja', 'score': 0.9999999999995822}, {'language': 'fr', 'score': 0.9999967522409887}, {'language': 'es', 'score': 0.5714256369271211}, {'language': 'fr', 'score': 0.9999964446967669}, {'language': 'en', 'score': 0.9999962633793578}, {'language': 'ja', 'score': 0.999999963424281}, {'language': 'fr', 'score': 0.9999964133952705}, {'language': 'en', 'score': 0.9999956673442292}, {'language': 'ja', 'score': 0.9999999939967622}, {'language': 'en', 'score': 0.9999966125383304}, {'language': 'en', 'score': 0.999996350114704}, {'language': 'es', 'score': 0.999993977418155}, {'language': 'en', 'score': 0.9999941400191958}, {'language': 'es', 'score': 0.9999974386916699}, {'language': 'en', 'score': 0.9999969883470675}, {'language': 'en', 'score': 0.9999959608245044}, {'language': 'fr', 'score': 0.9999961473592924}, {'language': 'es', 'score': 0.9999968724463818}, {'language': 'ja', 'score': 0.9999999999703968}, {'language': 'ja', 'score': 0.9999999964281954}, {'language': 'en', 'score': 0.999995603614871}]\n"
          ]
        }
      ]
    },
    {
      "cell_type": "code",
      "metadata": {
        "colab": {
          "base_uri": "https://localhost:8080/"
        },
        "id": "woFXwXi-gDI6",
        "outputId": "4e95858c-badd-4848-bbda-bf4b144ae3fa"
      },
      "source": [
        "eng=[]\n",
        "for i in language:\n",
        "  if i['language']=='en':\n",
        "    eng.append('Y')\n",
        "  else:\n",
        "    eng.append('N')\n",
        "print(eng)"
      ],
      "execution_count": 39,
      "outputs": [
        {
          "output_type": "stream",
          "name": "stdout",
          "text": [
            "['Y', 'N', 'N', 'Y', 'N', 'Y', 'Y', 'N', 'N', 'N', 'N', 'N', 'N', 'N', 'N', 'Y', 'Y', 'N', 'N', 'N', 'Y', 'Y', 'N', 'N', 'N', 'Y', 'N', 'Y', 'N', 'N', 'Y', 'N', 'N', 'N', 'Y', 'N', 'N', 'N', 'N', 'Y', 'Y', 'Y', 'N', 'N', 'N', 'N', 'N', 'N', 'Y', 'N', 'N', 'N', 'N', 'N', 'N', 'N', 'Y', 'N', 'N', 'N', 'N', 'N', 'N', 'N', 'Y', 'N', 'Y', 'Y', 'N', 'N', 'Y', 'N', 'N', 'N', 'N', 'N', 'N', 'N', 'Y', 'Y', 'N', 'N', 'N', 'N', 'N', 'N', 'Y', 'N', 'N', 'N', 'N', 'N', 'Y', 'N', 'N', 'N', 'N', 'N', 'N', 'N', 'Y', 'N', 'N', 'N', 'N', 'N', 'Y', 'N', 'N', 'N', 'Y', 'N', 'N', 'N', 'N', 'N', 'N', 'N', 'N', 'Y', 'N', 'N', 'N', 'N', 'N', 'Y', 'N', 'N', 'N', 'N', 'N', 'Y', 'N', 'Y', 'N', 'N', 'N', 'N', 'N', 'N', 'N', 'N', 'N', 'N', 'Y', 'Y', 'N', 'N', 'N', 'N', 'N', 'N', 'Y', 'Y', 'N', 'Y', 'N', 'N', 'N', 'N', 'N', 'N', 'N', 'N', 'Y', 'N', 'N', 'N', 'N', 'N', 'N', 'N', 'N', 'N', 'N', 'N', 'N', 'N', 'N', 'N', 'N', 'N', 'N', 'N', 'N', 'N', 'N', 'Y', 'N', 'N', 'N', 'Y', 'N', 'Y', 'N', 'N', 'Y', 'N', 'N', 'Y', 'N', 'Y', 'N', 'Y', 'Y', 'N', 'N', 'Y', 'N', 'N', 'N', 'N', 'Y', 'N', 'Y', 'N', 'Y', 'N', 'N', 'N', 'N', 'Y', 'N', 'N', 'N', 'N', 'N', 'N', 'N', 'N', 'N', 'N', 'N', 'Y', 'Y', 'Y', 'Y', 'N', 'Y', 'N', 'N', 'Y', 'N', 'N', 'Y', 'N', 'Y', 'N', 'Y', 'Y', 'N', 'N', 'N', 'Y', 'Y', 'N', 'N', 'N', 'N', 'Y', 'N', 'N', 'Y', 'N', 'N', 'N', 'N', 'N', 'N', 'Y', 'Y', 'N', 'N', 'N', 'N', 'N', 'N', 'N', 'N', 'N', 'N', 'N', 'N', 'N', 'N', 'Y', 'N', 'Y', 'N', 'N', 'N', 'N', 'N', 'N', 'N', 'N', 'N', 'N', 'N', 'N', 'Y', 'N', 'Y', 'N', 'N', 'N', 'N', 'N', 'N', 'N', 'Y', 'Y', 'Y', 'N', 'N', 'N', 'Y', 'N', 'N', 'N', 'N', 'N', 'N', 'N', 'N', 'N', 'N', 'Y', 'N', 'N', 'Y', 'Y', 'Y', 'N', 'Y', 'N', 'Y', 'N', 'N', 'N', 'N', 'N', 'N', 'N', 'N', 'N', 'N', 'Y', 'N', 'N', 'Y', 'N', 'N', 'N', 'Y', 'Y', 'N', 'N', 'Y', 'N', 'N', 'N', 'Y', 'Y', 'N', 'N', 'Y', 'Y', 'N', 'N', 'N', 'N', 'N', 'N', 'N', 'N', 'N', 'N', 'N', 'N', 'Y', 'N', 'N', 'N', 'N', 'N', 'N', 'N', 'N', 'Y', 'N', 'N', 'N', 'N', 'N', 'N', 'Y', 'N', 'Y', 'N', 'N', 'N', 'N', 'N', 'N', 'Y', 'N', 'N', 'N', 'N', 'Y', 'N', 'N', 'N', 'N', 'N', 'N', 'N', 'Y', 'N', 'N', 'N', 'N', 'N', 'Y', 'N', 'N', 'N', 'N', 'N', 'N', 'N', 'N', 'N', 'N', 'N', 'N', 'Y', 'N', 'N', 'N', 'N', 'N', 'N', 'N', 'N', 'N', 'N', 'Y', 'N', 'N', 'N', 'Y', 'N', 'N', 'Y', 'N', 'N', 'Y', 'Y', 'Y', 'N', 'Y', 'N', 'Y', 'N', 'N', 'Y', 'N', 'N', 'N', 'Y', 'Y', 'N', 'N', 'Y', 'N', 'N', 'Y', 'Y', 'N', 'N', 'Y', 'N', 'N', 'N', 'N', 'N', 'N', 'Y', 'N', 'N', 'Y', 'N', 'N', 'N', 'N', 'Y', 'N', 'N', 'N', 'N', 'Y', 'N', 'N', 'Y', 'N', 'Y', 'N', 'Y', 'Y', 'Y', 'N', 'N', 'Y', 'N', 'Y', 'N', 'N', 'N', 'N', 'N', 'N', 'N', 'N', 'Y', 'N', 'N', 'Y', 'Y', 'N', 'Y', 'N', 'N', 'Y', 'N', 'N', 'N', 'N', 'N', 'N', 'Y', 'N', 'N', 'N', 'N', 'N', 'Y', 'N', 'Y', 'N', 'N', 'N', 'Y', 'N', 'N', 'Y', 'N', 'N', 'Y', 'N', 'Y', 'N', 'N', 'N', 'N', 'N', 'Y', 'N', 'N', 'Y', 'N', 'N', 'N', 'N', 'N', 'Y', 'Y', 'Y', 'Y', 'Y', 'N', 'Y', 'N', 'Y', 'Y', 'N', 'Y', 'N', 'N', 'N', 'N', 'N', 'Y', 'N', 'Y', 'Y', 'N', 'Y', 'N', 'Y', 'N', 'N', 'N', 'Y', 'N', 'Y', 'N', 'N', 'Y', 'N', 'N', 'N', 'N', 'N', 'N', 'N', 'N', 'N', 'N', 'N', 'N', 'N', 'N', 'N', 'N', 'N', 'N', 'N', 'Y', 'N', 'N', 'N', 'N', 'N', 'Y', 'N', 'N', 'N', 'Y', 'N', 'N', 'N', 'Y', 'Y', 'N', 'N', 'Y', 'N', 'Y', 'N', 'N', 'Y', 'N', 'Y', 'N', 'N', 'N', 'N', 'N', 'N', 'Y', 'Y', 'Y', 'N', 'Y', 'N', 'Y', 'N', 'N', 'N', 'N', 'N', 'N', 'N', 'Y', 'N', 'N', 'Y', 'N', 'N', 'N', 'Y', 'N', 'N', 'N', 'Y', 'N', 'N', 'N', 'N', 'Y', 'N', 'N', 'N', 'Y', 'N', 'N', 'Y', 'N', 'N', 'Y', 'N', 'Y', 'N', 'N', 'N', 'Y', 'N', 'N', 'Y', 'N', 'Y', 'Y', 'Y', 'Y', 'Y', 'N', 'N', 'N', 'N', 'N', 'N', 'Y', 'Y', 'N', 'N', 'Y', 'N', 'N', 'Y', 'N', 'N', 'Y', 'Y', 'Y', 'Y', 'N', 'N', 'N', 'N', 'Y', 'N', 'N', 'N', 'N', 'N', 'N', 'Y', 'N', 'N', 'Y', 'N', 'N', 'Y', 'N', 'N', 'N', 'N', 'N', 'N', 'N', 'Y', 'N', 'Y', 'N', 'Y', 'Y', 'N', 'Y', 'Y', 'N', 'N', 'N', 'N', 'N', 'Y', 'Y', 'N', 'Y', 'N', 'N', 'Y', 'Y', 'N', 'N', 'N', 'Y', 'Y', 'Y', 'N', 'N', 'N', 'Y', 'N', 'N', 'Y', 'N', 'N', 'N', 'Y', 'Y', 'N', 'N', 'N', 'Y', 'N', 'N', 'Y', 'Y', 'N', 'N', 'N', 'Y', 'N', 'N', 'N', 'N', 'N', 'N', 'Y', 'Y', 'Y', 'Y', 'N', 'Y', 'N', 'N', 'Y', 'N', 'Y', 'Y', 'Y', 'Y', 'N', 'Y', 'Y', 'N', 'N', 'Y', 'N', 'N', 'N', 'N', 'Y', 'N', 'N', 'N', 'N', 'N', 'N', 'Y', 'N', 'Y', 'Y', 'N', 'N', 'N', 'N', 'N', 'Y', 'N', 'N', 'N', 'N', 'N', 'N', 'N', 'N', 'N', 'N', 'Y', 'N', 'Y', 'N', 'Y', 'N', 'N', 'Y', 'N', 'N', 'N', 'Y', 'N', 'N', 'N', 'N', 'N', 'N', 'N', 'N', 'N', 'N', 'N', 'Y', 'Y', 'N', 'N', 'N', 'N', 'Y', 'Y', 'N', 'Y', 'N', 'N', 'N', 'N', 'N', 'N', 'Y', 'N', 'N', 'N', 'N', 'N', 'N', 'Y', 'N', 'Y', 'N', 'N', 'Y', 'N', 'N', 'N', 'N', 'N', 'N', 'N', 'N', 'Y', 'N', 'Y', 'N', 'N', 'Y', 'N', 'N', 'Y', 'N', 'N', 'Y', 'N', 'Y', 'N', 'N', 'N', 'N', 'N', 'N', 'Y', 'N', 'N', 'N', 'N', 'Y', 'N', 'Y', 'Y', 'Y', 'N', 'Y', 'N', 'N', 'N', 'N', 'Y', 'N', 'N', 'Y', 'N', 'N', 'Y', 'N', 'Y', 'N', 'N', 'N', 'Y', 'N', 'N', 'N', 'N', 'N', 'N', 'N', 'N', 'Y', 'Y', 'Y', 'N', 'N', 'Y', 'Y', 'Y', 'N', 'N', 'N', 'Y', 'N', 'N', 'N', 'N', 'Y', 'N', 'N', 'N', 'N', 'Y', 'N', 'N', 'N', 'N', 'N', 'N', 'N', 'N', 'N', 'Y', 'N', 'N', 'Y', 'N', 'Y', 'N', 'Y', 'Y', 'N', 'N', 'N', 'N', 'N', 'N', 'N', 'N', 'N', 'N', 'N', 'Y', 'N', 'N', 'Y', 'N', 'N', 'Y', 'Y', 'N', 'N', 'Y', 'N', 'N', 'N', 'N', 'Y', 'N', 'Y', 'N', 'Y', 'Y', 'Y', 'N', 'N', 'Y', 'Y', 'N', 'Y', 'N', 'N', 'Y', 'Y', 'N', 'N', 'N', 'N', 'Y', 'N', 'N', 'N', 'N', 'N', 'N', 'Y', 'N', 'N', 'N', 'N', 'N', 'N', 'N', 'N', 'N', 'N', 'Y', 'N', 'N', 'N', 'N', 'N', 'N', 'N', 'Y', 'Y', 'N', 'N', 'N', 'Y', 'Y', 'N', 'N', 'N', 'N', 'Y', 'N', 'N', 'N', 'Y', 'Y', 'N', 'Y', 'N', 'Y', 'N', 'Y', 'N', 'N', 'N', 'N', 'N', 'Y', 'N', 'N', 'N', 'N', 'N', 'N', 'N', 'N', 'N', 'N', 'N', 'N', 'N', 'N', 'N', 'N', 'N', 'N', 'N', 'N', 'N', 'N', 'Y', 'N', 'N', 'N', 'N', 'N', 'N', 'Y', 'N', 'N', 'N', 'N', 'N', 'Y', 'N', 'N', 'N', 'Y', 'Y', 'N', 'N', 'Y', 'N', 'N', 'N', 'N', 'N', 'N', 'Y', 'N', 'N', 'Y', 'Y', 'N', 'Y', 'N', 'N', 'Y', 'N', 'N', 'N', 'Y', 'Y', 'N', 'Y', 'Y', 'N', 'N', 'N', 'N', 'Y', 'N', 'Y', 'N', 'Y', 'Y', 'N', 'N', 'N', 'Y', 'Y', 'N', 'Y', 'N', 'Y', 'Y', 'N', 'N', 'N', 'N', 'Y', 'N', 'N', 'Y', 'N', 'Y', 'N', 'N', 'N', 'Y', 'Y', 'N', 'Y', 'N', 'Y', 'Y', 'Y', 'Y', 'N', 'Y', 'Y', 'N', 'N', 'N', 'N', 'N', 'Y', 'N', 'N', 'N', 'N', 'Y', 'N', 'N', 'N', 'Y', 'N', 'N', 'Y', 'N', 'N', 'N', 'N', 'N', 'N', 'Y', 'Y', 'N', 'N', 'Y', 'N', 'N', 'Y', 'N', 'Y', 'N', 'N', 'N', 'N', 'N', 'N', 'Y', 'Y', 'N', 'N', 'N', 'N', 'N', 'N', 'Y', 'N', 'Y', 'N', 'N', 'N', 'Y', 'N', 'N', 'N', 'Y', 'Y', 'Y', 'Y', 'Y', 'N', 'N', 'Y', 'N', 'Y', 'N', 'N', 'Y', 'N', 'N', 'Y', 'N', 'Y', 'N', 'N', 'Y', 'N', 'N', 'Y', 'N', 'N', 'N', 'N', 'Y', 'Y', 'N', 'Y', 'N', 'N', 'Y', 'Y', 'N', 'N', 'Y', 'N', 'N', 'Y', 'N', 'Y', 'N', 'Y', 'Y', 'Y', 'Y', 'Y', 'N', 'Y', 'Y', 'Y', 'N', 'Y', 'N', 'N', 'Y', 'N', 'Y', 'N', 'N', 'Y', 'N', 'N', 'N', 'N', 'Y', 'N', 'N', 'Y', 'N', 'Y', 'Y', 'N', 'Y', 'N', 'Y', 'Y', 'N', 'N', 'N', 'N', 'Y']\n"
          ]
        }
      ]
    },
    {
      "cell_type": "code",
      "metadata": {
        "colab": {
          "base_uri": "https://localhost:8080/"
        },
        "id": "JZFUBLtTgfYx",
        "outputId": "53b12dfa-4f7f-4e59-d125-b92fcc86817f"
      },
      "source": [
        "df['Text_eng']=eng\n",
        "print(df.head(10))"
      ],
      "execution_count": 40,
      "outputs": [
        {
          "output_type": "stream",
          "name": "stdout",
          "text": [
            "                        Datetime             Tweet id  ...  Likes Text_eng\n",
            "18796  2021-10-22 00:33:26+00:00  1451345917416665090  ...  32713        Y\n",
            "31012  2021-10-14 06:31:25+00:00  1448536903850999810  ...   7813        N\n",
            "30992  2021-10-14 06:32:59+00:00  1448537301861036032  ...   5329        N\n",
            "12889  2021-11-02 08:28:05+00:00  1455451637133107200  ...   5154        Y\n",
            "24948  2021-10-15 15:48:11+00:00  1449039406724050946  ...   4428        N\n",
            "47575  2021-09-02 07:30:53+00:00  1433331580907311108  ...   3428        Y\n",
            "2259   2021-11-18 23:28:58+00:00  1461476555667156992  ...   3168        Y\n",
            "30269  2021-10-14 07:26:26+00:00  1448550751018504193  ...   2993        N\n",
            "37734  2021-10-08 03:11:08+00:00  1446312176382218246  ...   2972        N\n",
            "37434  2021-10-08 10:14:15+00:00  1446418657148502016  ...   2370        N\n",
            "\n",
            "[10 rows x 6 columns]\n"
          ]
        }
      ]
    },
    {
      "cell_type": "code",
      "metadata": {
        "colab": {
          "base_uri": "https://localhost:8080/"
        },
        "id": "7H_Il87leYle",
        "outputId": "aab321f4-90a2-47da-e630-16430c6e3a22"
      },
      "source": [
        "data=df[df['Text_eng']=='Y']\n",
        "print(len(df))\n",
        "print(len(data))"
      ],
      "execution_count": 41,
      "outputs": [
        {
          "output_type": "stream",
          "name": "stdout",
          "text": [
            "1386\n",
            "402\n"
          ]
        }
      ]
    },
    {
      "cell_type": "code",
      "metadata": {
        "id": "9SIF56_uaQdw"
      },
      "source": [
        "data.to_csv('twitter_ppl.csv')"
      ],
      "execution_count": 42,
      "outputs": []
    }
  ]
}